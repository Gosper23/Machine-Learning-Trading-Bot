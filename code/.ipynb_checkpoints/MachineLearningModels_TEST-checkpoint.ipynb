{
 "cells": [
  {
   "cell_type": "code",
   "execution_count": 13,
   "id": "c7655c7a-5f07-4477-b6d8-948f4abbb146",
   "metadata": {},
   "outputs": [],
   "source": [
    "import pandas as pd\n",
    "import numpy as np\n",
    "from pathlib import Path\n",
    "import hvplot.pandas\n",
    "import matplotlib.pyplot as plt\n",
    "from sklearn import svm\n",
    "from sklearn.preprocessing import StandardScaler\n",
    "from pandas.tseries.offsets import DateOffset\n",
    "from sklearn.metrics import classification_report\n",
    "from sklearn import svm\n",
    "from sklearn.metrics import classification_report"
   ]
  },
  {
   "cell_type": "code",
   "execution_count": 14,
   "id": "253d6488-c973-43f9-9110-b3fdaa80880f",
   "metadata": {},
   "outputs": [],
   "source": [
    "import yfinance as yf\n",
    "import pandas as pd"
   ]
  },
  {
   "cell_type": "code",
   "execution_count": 15,
   "id": "a07edbfb-6a90-4a6e-b58e-b296c936e137",
   "metadata": {},
   "outputs": [
    {
     "name": "stdout",
     "output_type": "stream",
     "text": [
      "[*********************100%***********************]  1 of 1 completed\n"
     ]
    }
   ],
   "source": [
    "tesla_data = yf.download(\"TSLA\", start=\"2017-06-05\",end=\"2022-06-05\")"
   ]
  },
  {
   "cell_type": "code",
   "execution_count": 16,
   "id": "0446a0e1-7e77-43f2-a978-13111d8bbc9a",
   "metadata": {},
   "outputs": [
    {
     "data": {
      "text/html": [
       "<div>\n",
       "<style scoped>\n",
       "    .dataframe tbody tr th:only-of-type {\n",
       "        vertical-align: middle;\n",
       "    }\n",
       "\n",
       "    .dataframe tbody tr th {\n",
       "        vertical-align: top;\n",
       "    }\n",
       "\n",
       "    .dataframe thead th {\n",
       "        text-align: right;\n",
       "    }\n",
       "</style>\n",
       "<table border=\"1\" class=\"dataframe\">\n",
       "  <thead>\n",
       "    <tr style=\"text-align: right;\">\n",
       "      <th></th>\n",
       "      <th>Close</th>\n",
       "      <th>Actual Returns</th>\n",
       "    </tr>\n",
       "    <tr>\n",
       "      <th>Date</th>\n",
       "      <th></th>\n",
       "      <th></th>\n",
       "    </tr>\n",
       "  </thead>\n",
       "  <tbody>\n",
       "    <tr>\n",
       "      <th>2017-06-06</th>\n",
       "      <td>70.570000</td>\n",
       "      <td>0.015922</td>\n",
       "    </tr>\n",
       "    <tr>\n",
       "      <th>2017-06-07</th>\n",
       "      <td>71.930000</td>\n",
       "      <td>0.019272</td>\n",
       "    </tr>\n",
       "    <tr>\n",
       "      <th>2017-06-08</th>\n",
       "      <td>74.000000</td>\n",
       "      <td>0.028778</td>\n",
       "    </tr>\n",
       "    <tr>\n",
       "      <th>2017-06-09</th>\n",
       "      <td>71.463997</td>\n",
       "      <td>-0.034270</td>\n",
       "    </tr>\n",
       "    <tr>\n",
       "      <th>2017-06-12</th>\n",
       "      <td>71.802002</td>\n",
       "      <td>0.004730</td>\n",
       "    </tr>\n",
       "  </tbody>\n",
       "</table>\n",
       "</div>"
      ],
      "text/plain": [
       "                Close  Actual Returns\n",
       "Date                                 \n",
       "2017-06-06  70.570000        0.015922\n",
       "2017-06-07  71.930000        0.019272\n",
       "2017-06-08  74.000000        0.028778\n",
       "2017-06-09  71.463997       -0.034270\n",
       "2017-06-12  71.802002        0.004730"
      ]
     },
     "metadata": {},
     "output_type": "display_data"
    },
    {
     "data": {
      "text/html": [
       "<div>\n",
       "<style scoped>\n",
       "    .dataframe tbody tr th:only-of-type {\n",
       "        vertical-align: middle;\n",
       "    }\n",
       "\n",
       "    .dataframe tbody tr th {\n",
       "        vertical-align: top;\n",
       "    }\n",
       "\n",
       "    .dataframe thead th {\n",
       "        text-align: right;\n",
       "    }\n",
       "</style>\n",
       "<table border=\"1\" class=\"dataframe\">\n",
       "  <thead>\n",
       "    <tr style=\"text-align: right;\">\n",
       "      <th></th>\n",
       "      <th>Close</th>\n",
       "      <th>Actual Returns</th>\n",
       "    </tr>\n",
       "    <tr>\n",
       "      <th>Date</th>\n",
       "      <th></th>\n",
       "      <th></th>\n",
       "    </tr>\n",
       "  </thead>\n",
       "  <tbody>\n",
       "    <tr>\n",
       "      <th>2022-05-27</th>\n",
       "      <td>759.630005</td>\n",
       "      <td>0.073333</td>\n",
       "    </tr>\n",
       "    <tr>\n",
       "      <th>2022-05-31</th>\n",
       "      <td>758.260010</td>\n",
       "      <td>-0.001804</td>\n",
       "    </tr>\n",
       "    <tr>\n",
       "      <th>2022-06-01</th>\n",
       "      <td>740.369995</td>\n",
       "      <td>-0.023594</td>\n",
       "    </tr>\n",
       "    <tr>\n",
       "      <th>2022-06-02</th>\n",
       "      <td>775.000000</td>\n",
       "      <td>0.046774</td>\n",
       "    </tr>\n",
       "    <tr>\n",
       "      <th>2022-06-03</th>\n",
       "      <td>703.549988</td>\n",
       "      <td>-0.092194</td>\n",
       "    </tr>\n",
       "  </tbody>\n",
       "</table>\n",
       "</div>"
      ],
      "text/plain": [
       "                 Close  Actual Returns\n",
       "Date                                  \n",
       "2022-05-27  759.630005        0.073333\n",
       "2022-05-31  758.260010       -0.001804\n",
       "2022-06-01  740.369995       -0.023594\n",
       "2022-06-02  775.000000        0.046774\n",
       "2022-06-03  703.549988       -0.092194"
      ]
     },
     "metadata": {},
     "output_type": "display_data"
    }
   ],
   "source": [
    "# Filter the date index and close columns\n",
    "signals_df = tesla_data.loc[:, [\"Close\"]]\n",
    "\n",
    "# Use the pct_change function to generate  returns from close prices\n",
    "signals_df[\"Actual Returns\"] = signals_df[\"Close\"].pct_change()\n",
    "\n",
    "# Drop all NaN values from the DataFrame\n",
    "signals_df = signals_df.dropna()\n",
    "\n",
    "# Review the DataFrame\n",
    "display(signals_df.head())\n",
    "display(signals_df.tail())"
   ]
  },
  {
   "cell_type": "code",
   "execution_count": 18,
   "id": "89f95010-8000-43b5-88de-8b756db6dbc1",
   "metadata": {},
   "outputs": [
    {
     "data": {
      "text/html": [
       "<div>\n",
       "<style scoped>\n",
       "    .dataframe tbody tr th:only-of-type {\n",
       "        vertical-align: middle;\n",
       "    }\n",
       "\n",
       "    .dataframe tbody tr th {\n",
       "        vertical-align: top;\n",
       "    }\n",
       "\n",
       "    .dataframe thead th {\n",
       "        text-align: right;\n",
       "    }\n",
       "</style>\n",
       "<table border=\"1\" class=\"dataframe\">\n",
       "  <thead>\n",
       "    <tr style=\"text-align: right;\">\n",
       "      <th></th>\n",
       "      <th>Close</th>\n",
       "      <th>Actual Returns</th>\n",
       "      <th>SMA_Fast</th>\n",
       "      <th>SMA_Slow</th>\n",
       "    </tr>\n",
       "    <tr>\n",
       "      <th>Date</th>\n",
       "      <th></th>\n",
       "      <th></th>\n",
       "      <th></th>\n",
       "      <th></th>\n",
       "    </tr>\n",
       "  </thead>\n",
       "  <tbody>\n",
       "    <tr>\n",
       "      <th>2017-10-25</th>\n",
       "      <td>65.167999</td>\n",
       "      <td>-0.034090</td>\n",
       "      <td>67.264999</td>\n",
       "      <td>70.21578</td>\n",
       "    </tr>\n",
       "    <tr>\n",
       "      <th>2017-10-26</th>\n",
       "      <td>65.234001</td>\n",
       "      <td>0.001013</td>\n",
       "      <td>66.318501</td>\n",
       "      <td>70.16242</td>\n",
       "    </tr>\n",
       "    <tr>\n",
       "      <th>2017-10-27</th>\n",
       "      <td>64.174004</td>\n",
       "      <td>-0.016249</td>\n",
       "      <td>65.511002</td>\n",
       "      <td>70.08486</td>\n",
       "    </tr>\n",
       "    <tr>\n",
       "      <th>2017-10-30</th>\n",
       "      <td>64.015999</td>\n",
       "      <td>-0.002462</td>\n",
       "      <td>64.648001</td>\n",
       "      <td>69.98502</td>\n",
       "    </tr>\n",
       "    <tr>\n",
       "      <th>2017-10-31</th>\n",
       "      <td>66.306000</td>\n",
       "      <td>0.035772</td>\n",
       "      <td>64.932501</td>\n",
       "      <td>69.93344</td>\n",
       "    </tr>\n",
       "  </tbody>\n",
       "</table>\n",
       "</div>"
      ],
      "text/plain": [
       "                Close  Actual Returns   SMA_Fast  SMA_Slow\n",
       "Date                                                      \n",
       "2017-10-25  65.167999       -0.034090  67.264999  70.21578\n",
       "2017-10-26  65.234001        0.001013  66.318501  70.16242\n",
       "2017-10-27  64.174004       -0.016249  65.511002  70.08486\n",
       "2017-10-30  64.015999       -0.002462  64.648001  69.98502\n",
       "2017-10-31  66.306000        0.035772  64.932501  69.93344"
      ]
     },
     "metadata": {},
     "output_type": "display_data"
    },
    {
     "data": {
      "text/html": [
       "<div>\n",
       "<style scoped>\n",
       "    .dataframe tbody tr th:only-of-type {\n",
       "        vertical-align: middle;\n",
       "    }\n",
       "\n",
       "    .dataframe tbody tr th {\n",
       "        vertical-align: top;\n",
       "    }\n",
       "\n",
       "    .dataframe thead th {\n",
       "        text-align: right;\n",
       "    }\n",
       "</style>\n",
       "<table border=\"1\" class=\"dataframe\">\n",
       "  <thead>\n",
       "    <tr style=\"text-align: right;\">\n",
       "      <th></th>\n",
       "      <th>Close</th>\n",
       "      <th>Actual Returns</th>\n",
       "      <th>SMA_Fast</th>\n",
       "      <th>SMA_Slow</th>\n",
       "    </tr>\n",
       "    <tr>\n",
       "      <th>Date</th>\n",
       "      <th></th>\n",
       "      <th></th>\n",
       "      <th></th>\n",
       "      <th></th>\n",
       "    </tr>\n",
       "  </thead>\n",
       "  <tbody>\n",
       "    <tr>\n",
       "      <th>2022-05-27</th>\n",
       "      <td>759.630005</td>\n",
       "      <td>0.073333</td>\n",
       "      <td>688.579987</td>\n",
       "      <td>908.520997</td>\n",
       "    </tr>\n",
       "    <tr>\n",
       "      <th>2022-05-31</th>\n",
       "      <td>758.260010</td>\n",
       "      <td>-0.001804</td>\n",
       "      <td>721.104996</td>\n",
       "      <td>905.222397</td>\n",
       "    </tr>\n",
       "    <tr>\n",
       "      <th>2022-06-01</th>\n",
       "      <td>740.369995</td>\n",
       "      <td>-0.023594</td>\n",
       "      <td>741.497498</td>\n",
       "      <td>901.979097</td>\n",
       "    </tr>\n",
       "    <tr>\n",
       "      <th>2022-06-02</th>\n",
       "      <td>775.000000</td>\n",
       "      <td>0.046774</td>\n",
       "      <td>758.315002</td>\n",
       "      <td>899.459498</td>\n",
       "    </tr>\n",
       "    <tr>\n",
       "      <th>2022-06-03</th>\n",
       "      <td>703.549988</td>\n",
       "      <td>-0.092194</td>\n",
       "      <td>744.294998</td>\n",
       "      <td>895.913798</td>\n",
       "    </tr>\n",
       "  </tbody>\n",
       "</table>\n",
       "</div>"
      ],
      "text/plain": [
       "                 Close  Actual Returns    SMA_Fast    SMA_Slow\n",
       "Date                                                          \n",
       "2022-05-27  759.630005        0.073333  688.579987  908.520997\n",
       "2022-05-31  758.260010       -0.001804  721.104996  905.222397\n",
       "2022-06-01  740.369995       -0.023594  741.497498  901.979097\n",
       "2022-06-02  775.000000        0.046774  758.315002  899.459498\n",
       "2022-06-03  703.549988       -0.092194  744.294998  895.913798"
      ]
     },
     "metadata": {},
     "output_type": "display_data"
    }
   ],
   "source": [
    "# Set the short window and long window\n",
    "short_window = 4\n",
    "long_window = 100\n",
    "\n",
    "# Generate the fast and slow simple moving averages (4 and 100 days, respectively)\n",
    "signals_df['SMA_Fast'] = signals_df['Close'].rolling(window=short_window).mean()\n",
    "signals_df['SMA_Slow'] = signals_df['Close'].rolling(window=long_window).mean()\n",
    "\n",
    "signals_df = signals_df.dropna()\n",
    "\n",
    "# Review the DataFrame\n",
    "display(signals_df.head())\n",
    "display(signals_df.tail())"
   ]
  },
  {
   "cell_type": "code",
   "execution_count": 19,
   "id": "3be3567b-cc35-45a6-86d5-1a61a3e26a78",
   "metadata": {},
   "outputs": [
    {
     "name": "stderr",
     "output_type": "stream",
     "text": [
      "C:\\Users\\USER\\AppData\\Local\\Temp\\ipykernel_26356\\4011502292.py:2: SettingWithCopyWarning: \n",
      "A value is trying to be set on a copy of a slice from a DataFrame.\n",
      "Try using .loc[row_indexer,col_indexer] = value instead\n",
      "\n",
      "See the caveats in the documentation: https://pandas.pydata.org/pandas-docs/stable/user_guide/indexing.html#returning-a-view-versus-a-copy\n",
      "  signals_df['Signal'] = 0.0\n"
     ]
    },
    {
     "data": {
      "text/html": [
       "<div>\n",
       "<style scoped>\n",
       "    .dataframe tbody tr th:only-of-type {\n",
       "        vertical-align: middle;\n",
       "    }\n",
       "\n",
       "    .dataframe tbody tr th {\n",
       "        vertical-align: top;\n",
       "    }\n",
       "\n",
       "    .dataframe thead th {\n",
       "        text-align: right;\n",
       "    }\n",
       "</style>\n",
       "<table border=\"1\" class=\"dataframe\">\n",
       "  <thead>\n",
       "    <tr style=\"text-align: right;\">\n",
       "      <th></th>\n",
       "      <th>Close</th>\n",
       "      <th>Actual Returns</th>\n",
       "      <th>SMA_Fast</th>\n",
       "      <th>SMA_Slow</th>\n",
       "      <th>Signal</th>\n",
       "    </tr>\n",
       "    <tr>\n",
       "      <th>Date</th>\n",
       "      <th></th>\n",
       "      <th></th>\n",
       "      <th></th>\n",
       "      <th></th>\n",
       "      <th></th>\n",
       "    </tr>\n",
       "  </thead>\n",
       "  <tbody>\n",
       "    <tr>\n",
       "      <th>2017-10-25</th>\n",
       "      <td>65.167999</td>\n",
       "      <td>-0.034090</td>\n",
       "      <td>67.264999</td>\n",
       "      <td>70.21578</td>\n",
       "      <td>-1.0</td>\n",
       "    </tr>\n",
       "    <tr>\n",
       "      <th>2017-10-26</th>\n",
       "      <td>65.234001</td>\n",
       "      <td>0.001013</td>\n",
       "      <td>66.318501</td>\n",
       "      <td>70.16242</td>\n",
       "      <td>1.0</td>\n",
       "    </tr>\n",
       "    <tr>\n",
       "      <th>2017-10-27</th>\n",
       "      <td>64.174004</td>\n",
       "      <td>-0.016249</td>\n",
       "      <td>65.511002</td>\n",
       "      <td>70.08486</td>\n",
       "      <td>-1.0</td>\n",
       "    </tr>\n",
       "    <tr>\n",
       "      <th>2017-10-30</th>\n",
       "      <td>64.015999</td>\n",
       "      <td>-0.002462</td>\n",
       "      <td>64.648001</td>\n",
       "      <td>69.98502</td>\n",
       "      <td>-1.0</td>\n",
       "    </tr>\n",
       "    <tr>\n",
       "      <th>2017-10-31</th>\n",
       "      <td>66.306000</td>\n",
       "      <td>0.035772</td>\n",
       "      <td>64.932501</td>\n",
       "      <td>69.93344</td>\n",
       "      <td>1.0</td>\n",
       "    </tr>\n",
       "  </tbody>\n",
       "</table>\n",
       "</div>"
      ],
      "text/plain": [
       "                Close  Actual Returns   SMA_Fast  SMA_Slow  Signal\n",
       "Date                                                              \n",
       "2017-10-25  65.167999       -0.034090  67.264999  70.21578    -1.0\n",
       "2017-10-26  65.234001        0.001013  66.318501  70.16242     1.0\n",
       "2017-10-27  64.174004       -0.016249  65.511002  70.08486    -1.0\n",
       "2017-10-30  64.015999       -0.002462  64.648001  69.98502    -1.0\n",
       "2017-10-31  66.306000        0.035772  64.932501  69.93344     1.0"
      ]
     },
     "metadata": {},
     "output_type": "display_data"
    },
    {
     "data": {
      "text/html": [
       "<div>\n",
       "<style scoped>\n",
       "    .dataframe tbody tr th:only-of-type {\n",
       "        vertical-align: middle;\n",
       "    }\n",
       "\n",
       "    .dataframe tbody tr th {\n",
       "        vertical-align: top;\n",
       "    }\n",
       "\n",
       "    .dataframe thead th {\n",
       "        text-align: right;\n",
       "    }\n",
       "</style>\n",
       "<table border=\"1\" class=\"dataframe\">\n",
       "  <thead>\n",
       "    <tr style=\"text-align: right;\">\n",
       "      <th></th>\n",
       "      <th>Close</th>\n",
       "      <th>Actual Returns</th>\n",
       "      <th>SMA_Fast</th>\n",
       "      <th>SMA_Slow</th>\n",
       "      <th>Signal</th>\n",
       "    </tr>\n",
       "    <tr>\n",
       "      <th>Date</th>\n",
       "      <th></th>\n",
       "      <th></th>\n",
       "      <th></th>\n",
       "      <th></th>\n",
       "      <th></th>\n",
       "    </tr>\n",
       "  </thead>\n",
       "  <tbody>\n",
       "    <tr>\n",
       "      <th>2022-05-27</th>\n",
       "      <td>759.630005</td>\n",
       "      <td>0.073333</td>\n",
       "      <td>688.579987</td>\n",
       "      <td>908.520997</td>\n",
       "      <td>1.0</td>\n",
       "    </tr>\n",
       "    <tr>\n",
       "      <th>2022-05-31</th>\n",
       "      <td>758.260010</td>\n",
       "      <td>-0.001804</td>\n",
       "      <td>721.104996</td>\n",
       "      <td>905.222397</td>\n",
       "      <td>-1.0</td>\n",
       "    </tr>\n",
       "    <tr>\n",
       "      <th>2022-06-01</th>\n",
       "      <td>740.369995</td>\n",
       "      <td>-0.023594</td>\n",
       "      <td>741.497498</td>\n",
       "      <td>901.979097</td>\n",
       "      <td>-1.0</td>\n",
       "    </tr>\n",
       "    <tr>\n",
       "      <th>2022-06-02</th>\n",
       "      <td>775.000000</td>\n",
       "      <td>0.046774</td>\n",
       "      <td>758.315002</td>\n",
       "      <td>899.459498</td>\n",
       "      <td>1.0</td>\n",
       "    </tr>\n",
       "    <tr>\n",
       "      <th>2022-06-03</th>\n",
       "      <td>703.549988</td>\n",
       "      <td>-0.092194</td>\n",
       "      <td>744.294998</td>\n",
       "      <td>895.913798</td>\n",
       "      <td>-1.0</td>\n",
       "    </tr>\n",
       "  </tbody>\n",
       "</table>\n",
       "</div>"
      ],
      "text/plain": [
       "                 Close  Actual Returns    SMA_Fast    SMA_Slow  Signal\n",
       "Date                                                                  \n",
       "2022-05-27  759.630005        0.073333  688.579987  908.520997     1.0\n",
       "2022-05-31  758.260010       -0.001804  721.104996  905.222397    -1.0\n",
       "2022-06-01  740.369995       -0.023594  741.497498  901.979097    -1.0\n",
       "2022-06-02  775.000000        0.046774  758.315002  899.459498     1.0\n",
       "2022-06-03  703.549988       -0.092194  744.294998  895.913798    -1.0"
      ]
     },
     "metadata": {},
     "output_type": "display_data"
    }
   ],
   "source": [
    "# Initialize the new Signal column\n",
    "signals_df['Signal'] = 0.0\n",
    "\n",
    "# When Actual Returns are greater than or equal to 0, generate signal to buy stock long\n",
    "signals_df.loc[(signals_df['Actual Returns'] >= 0), 'Signal'] = 1\n",
    "\n",
    "# When Actual Returns are less than 0, generate signal to sell stock short\n",
    "signals_df.loc[(signals_df['Actual Returns'] < 0), 'Signal'] = -1\n",
    "\n",
    "# Review the DataFrame\n",
    "display(signals_df.head())\n",
    "display(signals_df.tail())"
   ]
  },
  {
   "cell_type": "code",
   "execution_count": 20,
   "id": "19268ada-53bb-4dfc-b284-98914a1e7843",
   "metadata": {},
   "outputs": [
    {
     "data": {
      "text/plain": [
       " 1.0    604\n",
       "-1.0    556\n",
       "Name: Signal, dtype: int64"
      ]
     },
     "execution_count": 20,
     "metadata": {},
     "output_type": "execute_result"
    }
   ],
   "source": [
    "signals_df['Signal'].value_counts()"
   ]
  },
  {
   "cell_type": "code",
   "execution_count": 21,
   "id": "719522be-c350-4e7f-b4f7-25ee2877a6f7",
   "metadata": {},
   "outputs": [
    {
     "name": "stderr",
     "output_type": "stream",
     "text": [
      "C:\\Users\\USER\\AppData\\Local\\Temp\\ipykernel_26356\\649892355.py:2: SettingWithCopyWarning: \n",
      "A value is trying to be set on a copy of a slice from a DataFrame.\n",
      "Try using .loc[row_indexer,col_indexer] = value instead\n",
      "\n",
      "See the caveats in the documentation: https://pandas.pydata.org/pandas-docs/stable/user_guide/indexing.html#returning-a-view-versus-a-copy\n",
      "  signals_df['Strategy Returns'] = signals_df[\"Actual Returns\"] * signals_df['Signal'].shift()\n"
     ]
    },
    {
     "data": {
      "text/html": [
       "<div>\n",
       "<style scoped>\n",
       "    .dataframe tbody tr th:only-of-type {\n",
       "        vertical-align: middle;\n",
       "    }\n",
       "\n",
       "    .dataframe tbody tr th {\n",
       "        vertical-align: top;\n",
       "    }\n",
       "\n",
       "    .dataframe thead th {\n",
       "        text-align: right;\n",
       "    }\n",
       "</style>\n",
       "<table border=\"1\" class=\"dataframe\">\n",
       "  <thead>\n",
       "    <tr style=\"text-align: right;\">\n",
       "      <th></th>\n",
       "      <th>Close</th>\n",
       "      <th>Actual Returns</th>\n",
       "      <th>SMA_Fast</th>\n",
       "      <th>SMA_Slow</th>\n",
       "      <th>Signal</th>\n",
       "      <th>Strategy Returns</th>\n",
       "    </tr>\n",
       "    <tr>\n",
       "      <th>Date</th>\n",
       "      <th></th>\n",
       "      <th></th>\n",
       "      <th></th>\n",
       "      <th></th>\n",
       "      <th></th>\n",
       "      <th></th>\n",
       "    </tr>\n",
       "  </thead>\n",
       "  <tbody>\n",
       "    <tr>\n",
       "      <th>2017-10-25</th>\n",
       "      <td>65.167999</td>\n",
       "      <td>-0.034090</td>\n",
       "      <td>67.264999</td>\n",
       "      <td>70.21578</td>\n",
       "      <td>-1.0</td>\n",
       "      <td>NaN</td>\n",
       "    </tr>\n",
       "    <tr>\n",
       "      <th>2017-10-26</th>\n",
       "      <td>65.234001</td>\n",
       "      <td>0.001013</td>\n",
       "      <td>66.318501</td>\n",
       "      <td>70.16242</td>\n",
       "      <td>1.0</td>\n",
       "      <td>-0.001013</td>\n",
       "    </tr>\n",
       "    <tr>\n",
       "      <th>2017-10-27</th>\n",
       "      <td>64.174004</td>\n",
       "      <td>-0.016249</td>\n",
       "      <td>65.511002</td>\n",
       "      <td>70.08486</td>\n",
       "      <td>-1.0</td>\n",
       "      <td>-0.016249</td>\n",
       "    </tr>\n",
       "    <tr>\n",
       "      <th>2017-10-30</th>\n",
       "      <td>64.015999</td>\n",
       "      <td>-0.002462</td>\n",
       "      <td>64.648001</td>\n",
       "      <td>69.98502</td>\n",
       "      <td>-1.0</td>\n",
       "      <td>0.002462</td>\n",
       "    </tr>\n",
       "    <tr>\n",
       "      <th>2017-10-31</th>\n",
       "      <td>66.306000</td>\n",
       "      <td>0.035772</td>\n",
       "      <td>64.932501</td>\n",
       "      <td>69.93344</td>\n",
       "      <td>1.0</td>\n",
       "      <td>-0.035772</td>\n",
       "    </tr>\n",
       "  </tbody>\n",
       "</table>\n",
       "</div>"
      ],
      "text/plain": [
       "                Close  Actual Returns   SMA_Fast  SMA_Slow  Signal  \\\n",
       "Date                                                                 \n",
       "2017-10-25  65.167999       -0.034090  67.264999  70.21578    -1.0   \n",
       "2017-10-26  65.234001        0.001013  66.318501  70.16242     1.0   \n",
       "2017-10-27  64.174004       -0.016249  65.511002  70.08486    -1.0   \n",
       "2017-10-30  64.015999       -0.002462  64.648001  69.98502    -1.0   \n",
       "2017-10-31  66.306000        0.035772  64.932501  69.93344     1.0   \n",
       "\n",
       "            Strategy Returns  \n",
       "Date                          \n",
       "2017-10-25               NaN  \n",
       "2017-10-26         -0.001013  \n",
       "2017-10-27         -0.016249  \n",
       "2017-10-30          0.002462  \n",
       "2017-10-31         -0.035772  "
      ]
     },
     "metadata": {},
     "output_type": "display_data"
    },
    {
     "data": {
      "text/html": [
       "<div>\n",
       "<style scoped>\n",
       "    .dataframe tbody tr th:only-of-type {\n",
       "        vertical-align: middle;\n",
       "    }\n",
       "\n",
       "    .dataframe tbody tr th {\n",
       "        vertical-align: top;\n",
       "    }\n",
       "\n",
       "    .dataframe thead th {\n",
       "        text-align: right;\n",
       "    }\n",
       "</style>\n",
       "<table border=\"1\" class=\"dataframe\">\n",
       "  <thead>\n",
       "    <tr style=\"text-align: right;\">\n",
       "      <th></th>\n",
       "      <th>Close</th>\n",
       "      <th>Actual Returns</th>\n",
       "      <th>SMA_Fast</th>\n",
       "      <th>SMA_Slow</th>\n",
       "      <th>Signal</th>\n",
       "      <th>Strategy Returns</th>\n",
       "    </tr>\n",
       "    <tr>\n",
       "      <th>Date</th>\n",
       "      <th></th>\n",
       "      <th></th>\n",
       "      <th></th>\n",
       "      <th></th>\n",
       "      <th></th>\n",
       "      <th></th>\n",
       "    </tr>\n",
       "  </thead>\n",
       "  <tbody>\n",
       "    <tr>\n",
       "      <th>2022-05-27</th>\n",
       "      <td>759.630005</td>\n",
       "      <td>0.073333</td>\n",
       "      <td>688.579987</td>\n",
       "      <td>908.520997</td>\n",
       "      <td>1.0</td>\n",
       "      <td>0.073333</td>\n",
       "    </tr>\n",
       "    <tr>\n",
       "      <th>2022-05-31</th>\n",
       "      <td>758.260010</td>\n",
       "      <td>-0.001804</td>\n",
       "      <td>721.104996</td>\n",
       "      <td>905.222397</td>\n",
       "      <td>-1.0</td>\n",
       "      <td>-0.001804</td>\n",
       "    </tr>\n",
       "    <tr>\n",
       "      <th>2022-06-01</th>\n",
       "      <td>740.369995</td>\n",
       "      <td>-0.023594</td>\n",
       "      <td>741.497498</td>\n",
       "      <td>901.979097</td>\n",
       "      <td>-1.0</td>\n",
       "      <td>0.023594</td>\n",
       "    </tr>\n",
       "    <tr>\n",
       "      <th>2022-06-02</th>\n",
       "      <td>775.000000</td>\n",
       "      <td>0.046774</td>\n",
       "      <td>758.315002</td>\n",
       "      <td>899.459498</td>\n",
       "      <td>1.0</td>\n",
       "      <td>-0.046774</td>\n",
       "    </tr>\n",
       "    <tr>\n",
       "      <th>2022-06-03</th>\n",
       "      <td>703.549988</td>\n",
       "      <td>-0.092194</td>\n",
       "      <td>744.294998</td>\n",
       "      <td>895.913798</td>\n",
       "      <td>-1.0</td>\n",
       "      <td>-0.092194</td>\n",
       "    </tr>\n",
       "  </tbody>\n",
       "</table>\n",
       "</div>"
      ],
      "text/plain": [
       "                 Close  Actual Returns    SMA_Fast    SMA_Slow  Signal  \\\n",
       "Date                                                                     \n",
       "2022-05-27  759.630005        0.073333  688.579987  908.520997     1.0   \n",
       "2022-05-31  758.260010       -0.001804  721.104996  905.222397    -1.0   \n",
       "2022-06-01  740.369995       -0.023594  741.497498  901.979097    -1.0   \n",
       "2022-06-02  775.000000        0.046774  758.315002  899.459498     1.0   \n",
       "2022-06-03  703.549988       -0.092194  744.294998  895.913798    -1.0   \n",
       "\n",
       "            Strategy Returns  \n",
       "Date                          \n",
       "2022-05-27          0.073333  \n",
       "2022-05-31         -0.001804  \n",
       "2022-06-01          0.023594  \n",
       "2022-06-02         -0.046774  \n",
       "2022-06-03         -0.092194  "
      ]
     },
     "metadata": {},
     "output_type": "display_data"
    }
   ],
   "source": [
    "# Calculate the strategy returns and add them to the signals_df DataFrame\n",
    "signals_df['Strategy Returns'] = signals_df[\"Actual Returns\"] * signals_df['Signal'].shift()\n",
    "\n",
    "# Review the DataFrame\n",
    "display(signals_df.head())\n",
    "display(signals_df.tail())"
   ]
  },
  {
   "cell_type": "code",
   "execution_count": 22,
   "id": "3482c325-4fc5-4e42-9c46-543011cbbfb1",
   "metadata": {},
   "outputs": [
    {
     "data": {
      "text/plain": [
       "<AxesSubplot:xlabel='Date'>"
      ]
     },
     "execution_count": 22,
     "metadata": {},
     "output_type": "execute_result"
    },
    {
     "data": {
      "image/png": "[encoded data removed]",
      "text/plain": [
       "<Figure size 432x288 with 1 Axes>"
      ]
     },
     "metadata": {
      "needs_background": "light"
     },
     "output_type": "display_data"
    }
   ],
   "source": [
    "# Plot Strategy Returns to examine performance\n",
    "(1 + signals_df['Strategy Returns']).cumprod().plot()"
   ]
  },
  {
   "cell_type": "code",
   "execution_count": 23,
   "id": "e223dd86-c60f-4c93-931e-a33e64c0bd60",
   "metadata": {},
   "outputs": [
    {
     "data": {
      "text/plain": [
       "<Figure size 432x288 with 0 Axes>"
      ]
     },
     "metadata": {},
     "output_type": "display_data"
    }
   ],
   "source": [
    "plt.savefig(\"Strategy Return plot\")"
   ]
  },
  {
   "cell_type": "markdown",
   "id": "ea770881-2fd1-4e88-a27c-07a1bce69778",
   "metadata": {},
   "source": [
    "# Split the data into training and testing datasets"
   ]
  },
  {
   "cell_type": "code",
   "execution_count": 24,
   "id": "ee77de52-c8e4-4707-a6e8-15a2d5f65653",
   "metadata": {},
   "outputs": [
    {
     "data": {
      "text/html": [
       "<div>\n",
       "<style scoped>\n",
       "    .dataframe tbody tr th:only-of-type {\n",
       "        vertical-align: middle;\n",
       "    }\n",
       "\n",
       "    .dataframe tbody tr th {\n",
       "        vertical-align: top;\n",
       "    }\n",
       "\n",
       "    .dataframe thead th {\n",
       "        text-align: right;\n",
       "    }\n",
       "</style>\n",
       "<table border=\"1\" class=\"dataframe\">\n",
       "  <thead>\n",
       "    <tr style=\"text-align: right;\">\n",
       "      <th></th>\n",
       "      <th>SMA_Fast</th>\n",
       "      <th>SMA_Slow</th>\n",
       "    </tr>\n",
       "    <tr>\n",
       "      <th>Date</th>\n",
       "      <th></th>\n",
       "      <th></th>\n",
       "    </tr>\n",
       "  </thead>\n",
       "  <tbody>\n",
       "    <tr>\n",
       "      <th>2017-10-26</th>\n",
       "      <td>67.264999</td>\n",
       "      <td>70.21578</td>\n",
       "    </tr>\n",
       "    <tr>\n",
       "      <th>2017-10-27</th>\n",
       "      <td>66.318501</td>\n",
       "      <td>70.16242</td>\n",
       "    </tr>\n",
       "    <tr>\n",
       "      <th>2017-10-30</th>\n",
       "      <td>65.511002</td>\n",
       "      <td>70.08486</td>\n",
       "    </tr>\n",
       "    <tr>\n",
       "      <th>2017-10-31</th>\n",
       "      <td>64.648001</td>\n",
       "      <td>69.98502</td>\n",
       "    </tr>\n",
       "    <tr>\n",
       "      <th>2017-11-01</th>\n",
       "      <td>64.932501</td>\n",
       "      <td>69.93344</td>\n",
       "    </tr>\n",
       "  </tbody>\n",
       "</table>\n",
       "</div>"
      ],
      "text/plain": [
       "             SMA_Fast  SMA_Slow\n",
       "Date                           \n",
       "2017-10-26  67.264999  70.21578\n",
       "2017-10-27  66.318501  70.16242\n",
       "2017-10-30  65.511002  70.08486\n",
       "2017-10-31  64.648001  69.98502\n",
       "2017-11-01  64.932501  69.93344"
      ]
     },
     "execution_count": 24,
     "metadata": {},
     "output_type": "execute_result"
    }
   ],
   "source": [
    "# Assign a copy of the sma_fast and sma_slow columns to a features DataFrame called X\n",
    "X = signals_df[['SMA_Fast', 'SMA_Slow']].shift().dropna()\n",
    "\n",
    "# Review the DataFrame\n",
    "X.head()"
   ]
  },
  {
   "cell_type": "code",
   "execution_count": 25,
   "id": "b6421e2d-3202-4243-afc5-d291fe0a3fc7",
   "metadata": {},
   "outputs": [
    {
     "data": {
      "text/plain": [
       " 1.0    604\n",
       "-1.0    556\n",
       "Name: Signal, dtype: int64"
      ]
     },
     "execution_count": 25,
     "metadata": {},
     "output_type": "execute_result"
    }
   ],
   "source": [
    "# Create the target set selecting the Signal column and assiging it to y\n",
    "y = signals_df['Signal']\n",
    "\n",
    "# Review the value counts\n",
    "y.value_counts()"
   ]
  },
  {
   "cell_type": "code",
   "execution_count": 26,
   "id": "f6dd8d23-0e1f-4fd2-941f-60c7bdf23f26",
   "metadata": {},
   "outputs": [
    {
     "name": "stdout",
     "output_type": "stream",
     "text": [
      "2017-10-26 00:00:00\n"
     ]
    }
   ],
   "source": [
    "# Select the start of the training period\n",
    "training_begin = X.index.min()\n",
    "\n",
    "# Display the training begin date\n",
    "print(training_begin)"
   ]
  },
  {
   "cell_type": "code",
   "execution_count": 27,
   "id": "664d31ff-371f-4420-9398-ca264af980cf",
   "metadata": {},
   "outputs": [
    {
     "name": "stdout",
     "output_type": "stream",
     "text": [
      "2018-10-26 00:00:00\n"
     ]
    }
   ],
   "source": [
    "# Select the ending period for the training data with an offset of 3 months\n",
    "training_end = X.index.min() + DateOffset(months=12)\n",
    "\n",
    "# Display the training end date\n",
    "print(training_end)"
   ]
  },
  {
   "cell_type": "code",
   "execution_count": 28,
   "id": "b09e0ac9-77ba-474a-b329-603e66f9ae3d",
   "metadata": {},
   "outputs": [
    {
     "data": {
      "text/html": [
       "<div>\n",
       "<style scoped>\n",
       "    .dataframe tbody tr th:only-of-type {\n",
       "        vertical-align: middle;\n",
       "    }\n",
       "\n",
       "    .dataframe tbody tr th {\n",
       "        vertical-align: top;\n",
       "    }\n",
       "\n",
       "    .dataframe thead th {\n",
       "        text-align: right;\n",
       "    }\n",
       "</style>\n",
       "<table border=\"1\" class=\"dataframe\">\n",
       "  <thead>\n",
       "    <tr style=\"text-align: right;\">\n",
       "      <th></th>\n",
       "      <th>SMA_Fast</th>\n",
       "      <th>SMA_Slow</th>\n",
       "    </tr>\n",
       "    <tr>\n",
       "      <th>Date</th>\n",
       "      <th></th>\n",
       "      <th></th>\n",
       "    </tr>\n",
       "  </thead>\n",
       "  <tbody>\n",
       "    <tr>\n",
       "      <th>2018-10-22</th>\n",
       "      <td>53.6140</td>\n",
       "      <td>62.15594</td>\n",
       "    </tr>\n",
       "    <tr>\n",
       "      <th>2018-10-23</th>\n",
       "      <td>52.8320</td>\n",
       "      <td>62.10838</td>\n",
       "    </tr>\n",
       "    <tr>\n",
       "      <th>2018-10-24</th>\n",
       "      <td>53.9500</td>\n",
       "      <td>62.11302</td>\n",
       "    </tr>\n",
       "    <tr>\n",
       "      <th>2018-10-25</th>\n",
       "      <td>55.1795</td>\n",
       "      <td>62.09654</td>\n",
       "    </tr>\n",
       "    <tr>\n",
       "      <th>2018-10-26</th>\n",
       "      <td>57.9225</td>\n",
       "      <td>62.14400</td>\n",
       "    </tr>\n",
       "  </tbody>\n",
       "</table>\n",
       "</div>"
      ],
      "text/plain": [
       "            SMA_Fast  SMA_Slow\n",
       "Date                          \n",
       "2018-10-22   53.6140  62.15594\n",
       "2018-10-23   52.8320  62.10838\n",
       "2018-10-24   53.9500  62.11302\n",
       "2018-10-25   55.1795  62.09654\n",
       "2018-10-26   57.9225  62.14400"
      ]
     },
     "execution_count": 28,
     "metadata": {},
     "output_type": "execute_result"
    }
   ],
   "source": [
    "# Generate the X_train and y_train DataFrames\n",
    "X_train = X.loc[training_begin:training_end]\n",
    "y_train = y.loc[training_begin:training_end]\n",
    "\n",
    "# Review the X_train DataFrame\n",
    "X_train.tail()"
   ]
  },
  {
   "cell_type": "code",
   "execution_count": 29,
   "id": "b6616274-f594-4e5e-987c-bdc501319522",
   "metadata": {},
   "outputs": [
    {
     "data": {
      "text/html": [
       "<div>\n",
       "<style scoped>\n",
       "    .dataframe tbody tr th:only-of-type {\n",
       "        vertical-align: middle;\n",
       "    }\n",
       "\n",
       "    .dataframe tbody tr th {\n",
       "        vertical-align: top;\n",
       "    }\n",
       "\n",
       "    .dataframe thead th {\n",
       "        text-align: right;\n",
       "    }\n",
       "</style>\n",
       "<table border=\"1\" class=\"dataframe\">\n",
       "  <thead>\n",
       "    <tr style=\"text-align: right;\">\n",
       "      <th></th>\n",
       "      <th>SMA_Fast</th>\n",
       "      <th>SMA_Slow</th>\n",
       "    </tr>\n",
       "    <tr>\n",
       "      <th>Date</th>\n",
       "      <th></th>\n",
       "      <th></th>\n",
       "    </tr>\n",
       "  </thead>\n",
       "  <tbody>\n",
       "    <tr>\n",
       "      <th>2017-10-26</th>\n",
       "      <td>67.264999</td>\n",
       "      <td>70.21578</td>\n",
       "    </tr>\n",
       "    <tr>\n",
       "      <th>2017-10-27</th>\n",
       "      <td>66.318501</td>\n",
       "      <td>70.16242</td>\n",
       "    </tr>\n",
       "    <tr>\n",
       "      <th>2017-10-30</th>\n",
       "      <td>65.511002</td>\n",
       "      <td>70.08486</td>\n",
       "    </tr>\n",
       "    <tr>\n",
       "      <th>2017-10-31</th>\n",
       "      <td>64.648001</td>\n",
       "      <td>69.98502</td>\n",
       "    </tr>\n",
       "    <tr>\n",
       "      <th>2017-11-01</th>\n",
       "      <td>64.932501</td>\n",
       "      <td>69.93344</td>\n",
       "    </tr>\n",
       "  </tbody>\n",
       "</table>\n",
       "</div>"
      ],
      "text/plain": [
       "             SMA_Fast  SMA_Slow\n",
       "Date                           \n",
       "2017-10-26  67.264999  70.21578\n",
       "2017-10-27  66.318501  70.16242\n",
       "2017-10-30  65.511002  70.08486\n",
       "2017-10-31  64.648001  69.98502\n",
       "2017-11-01  64.932501  69.93344"
      ]
     },
     "execution_count": 29,
     "metadata": {},
     "output_type": "execute_result"
    }
   ],
   "source": [
    "# Generate the X_test and y_test DataFrames\n",
    "X_test = X.loc[training_end+DateOffset(hours=1):]\n",
    "y_test = y.loc[training_end+DateOffset(hours=1):]\n",
    "\n",
    "# Review the X_test DataFrame\n",
    "X_train.head()"
   ]
  },
  {
   "cell_type": "code",
   "execution_count": 30,
   "id": "1dea4b97-a7e0-459b-9035-45616b88deb4",
   "metadata": {},
   "outputs": [],
   "source": [
    "# Scale the features DataFrames\n",
    "\n",
    "# Create a StandardScaler instance\n",
    "scaler = StandardScaler()\n",
    "\n",
    "# Apply the scaler model to fit the X-train data\n",
    "X_scaler = scaler.fit(X_train)\n",
    "\n",
    "# Transform the X_train and X_test DataFrames using the X_scaler\n",
    "X_train_scaled = X_scaler.transform(X_train)\n",
    "X_test_scaled = X_scaler.transform(X_test)"
   ]
  },
  {
   "cell_type": "markdown",
   "id": "009d9693-129f-49ab-aab1-60533e9cd78e",
   "metadata": {},
   "source": [
    "# Use SVC classifier model from SKLearn suport vector machine SVM learning method to fit the training data and make predictions "
   ]
  },
  {
   "cell_type": "code",
   "execution_count": 31,
   "id": "ea362b78-deaa-45ce-96c1-a7d4ee2c69fa",
   "metadata": {},
   "outputs": [
    {
     "data": {
      "text/plain": [
       "array([-1., -1., -1., -1., -1., -1., -1.,  1.,  1.,  1.])"
      ]
     },
     "execution_count": 31,
     "metadata": {},
     "output_type": "execute_result"
    }
   ],
   "source": [
    "\n",
    "# From SVM, instantiate SVC classifier model instance\n",
    "svm_model = svm.SVC()\n",
    " \n",
    "# Fit the model to the data using the training data\n",
    "svm_model = svm_model.fit(X_train_scaled, y_train)\n",
    " \n",
    "# Use the testing data to make the model predictions\n",
    "svm_pred = svm_model.predict(X_train_scaled)\n",
    "\n",
    "# Review the model's predicted values\n",
    "svm_pred[:10]"
   ]
  },
  {
   "cell_type": "markdown",
   "id": "877c925a-bc49-4bd9-90bd-10fe31bdee21",
   "metadata": {},
   "source": [
    "# Review the classification report associated with the SVC model predictions "
   ]
  },
  {
   "cell_type": "code",
   "execution_count": 32,
   "id": "db7deb04-1bb1-407c-89da-92abcfbcd156",
   "metadata": {},
   "outputs": [
    {
     "name": "stdout",
     "output_type": "stream",
     "text": [
      "              precision    recall  f1-score   support\n",
      "\n",
      "        -1.0       0.58      0.76      0.66       136\n",
      "         1.0       0.56      0.35      0.43       117\n",
      "\n",
      "    accuracy                           0.57       253\n",
      "   macro avg       0.57      0.56      0.54       253\n",
      "weighted avg       0.57      0.57      0.55       253\n",
      "\n"
     ]
    }
   ],
   "source": [
    "# Use a classification report to evaluate the model using the predictions and testing data\n",
    "svm_testing_report = classification_report(y_train, svm_pred)\n",
    "\n",
    "# Print the classification report\n",
    "print(svm_testing_report)"
   ]
  },
  {
   "cell_type": "markdown",
   "id": "90085e3b-60f9-45fb-82a6-0c02831b2129",
   "metadata": {},
   "source": [
    "# create a predictions dataframe that contains columns for predicted values, actual returns and strategy returns "
   ]
  },
  {
   "cell_type": "code",
   "execution_count": 33,
   "id": "762ce5f6-ec4c-48f8-aad5-0337f466d212",
   "metadata": {},
   "outputs": [
    {
     "data": {
      "text/html": [
       "<div>\n",
       "<style scoped>\n",
       "    .dataframe tbody tr th:only-of-type {\n",
       "        vertical-align: middle;\n",
       "    }\n",
       "\n",
       "    .dataframe tbody tr th {\n",
       "        vertical-align: top;\n",
       "    }\n",
       "\n",
       "    .dataframe thead th {\n",
       "        text-align: right;\n",
       "    }\n",
       "</style>\n",
       "<table border=\"1\" class=\"dataframe\">\n",
       "  <thead>\n",
       "    <tr style=\"text-align: right;\">\n",
       "      <th></th>\n",
       "      <th>Predicted</th>\n",
       "      <th>Actual Returns</th>\n",
       "      <th>Strategy Returns</th>\n",
       "    </tr>\n",
       "    <tr>\n",
       "      <th>Date</th>\n",
       "      <th></th>\n",
       "      <th></th>\n",
       "      <th></th>\n",
       "    </tr>\n",
       "  </thead>\n",
       "  <tbody>\n",
       "    <tr>\n",
       "      <th>2018-10-29</th>\n",
       "      <td>-1.0</td>\n",
       "      <td>0.011937</td>\n",
       "      <td>-0.011937</td>\n",
       "    </tr>\n",
       "    <tr>\n",
       "      <th>2018-10-30</th>\n",
       "      <td>-1.0</td>\n",
       "      <td>-0.014783</td>\n",
       "      <td>0.014783</td>\n",
       "    </tr>\n",
       "    <tr>\n",
       "      <th>2018-10-31</th>\n",
       "      <td>-1.0</td>\n",
       "      <td>0.022492</td>\n",
       "      <td>-0.022492</td>\n",
       "    </tr>\n",
       "    <tr>\n",
       "      <th>2018-11-01</th>\n",
       "      <td>-1.0</td>\n",
       "      <td>0.020633</td>\n",
       "      <td>-0.020633</td>\n",
       "    </tr>\n",
       "    <tr>\n",
       "      <th>2018-11-02</th>\n",
       "      <td>-1.0</td>\n",
       "      <td>0.006187</td>\n",
       "      <td>-0.006187</td>\n",
       "    </tr>\n",
       "  </tbody>\n",
       "</table>\n",
       "</div>"
      ],
      "text/plain": [
       "            Predicted  Actual Returns  Strategy Returns\n",
       "Date                                                   \n",
       "2018-10-29       -1.0        0.011937         -0.011937\n",
       "2018-10-30       -1.0       -0.014783          0.014783\n",
       "2018-10-31       -1.0        0.022492         -0.022492\n",
       "2018-11-01       -1.0        0.020633         -0.020633\n",
       "2018-11-02       -1.0        0.006187         -0.006187"
      ]
     },
     "metadata": {},
     "output_type": "display_data"
    },
    {
     "data": {
      "text/html": [
       "<div>\n",
       "<style scoped>\n",
       "    .dataframe tbody tr th:only-of-type {\n",
       "        vertical-align: middle;\n",
       "    }\n",
       "\n",
       "    .dataframe tbody tr th {\n",
       "        vertical-align: top;\n",
       "    }\n",
       "\n",
       "    .dataframe thead th {\n",
       "        text-align: right;\n",
       "    }\n",
       "</style>\n",
       "<table border=\"1\" class=\"dataframe\">\n",
       "  <thead>\n",
       "    <tr style=\"text-align: right;\">\n",
       "      <th></th>\n",
       "      <th>Predicted</th>\n",
       "      <th>Actual Returns</th>\n",
       "      <th>Strategy Returns</th>\n",
       "    </tr>\n",
       "    <tr>\n",
       "      <th>Date</th>\n",
       "      <th></th>\n",
       "      <th></th>\n",
       "      <th></th>\n",
       "    </tr>\n",
       "  </thead>\n",
       "  <tbody>\n",
       "    <tr>\n",
       "      <th>2022-05-27</th>\n",
       "      <td>-1.0</td>\n",
       "      <td>0.073333</td>\n",
       "      <td>-0.073333</td>\n",
       "    </tr>\n",
       "    <tr>\n",
       "      <th>2022-05-31</th>\n",
       "      <td>-1.0</td>\n",
       "      <td>-0.001804</td>\n",
       "      <td>0.001804</td>\n",
       "    </tr>\n",
       "    <tr>\n",
       "      <th>2022-06-01</th>\n",
       "      <td>-1.0</td>\n",
       "      <td>-0.023594</td>\n",
       "      <td>0.023594</td>\n",
       "    </tr>\n",
       "    <tr>\n",
       "      <th>2022-06-02</th>\n",
       "      <td>-1.0</td>\n",
       "      <td>0.046774</td>\n",
       "      <td>-0.046774</td>\n",
       "    </tr>\n",
       "    <tr>\n",
       "      <th>2022-06-03</th>\n",
       "      <td>-1.0</td>\n",
       "      <td>-0.092194</td>\n",
       "      <td>0.092194</td>\n",
       "    </tr>\n",
       "  </tbody>\n",
       "</table>\n",
       "</div>"
      ],
      "text/plain": [
       "            Predicted  Actual Returns  Strategy Returns\n",
       "Date                                                   \n",
       "2022-05-27       -1.0        0.073333         -0.073333\n",
       "2022-05-31       -1.0       -0.001804          0.001804\n",
       "2022-06-01       -1.0       -0.023594          0.023594\n",
       "2022-06-02       -1.0        0.046774         -0.046774\n",
       "2022-06-03       -1.0       -0.092194          0.092194"
      ]
     },
     "metadata": {},
     "output_type": "display_data"
    }
   ],
   "source": [
    "# Create a new empty predictions DataFrame.\n",
    "testing_signal_predictions = svm_model.predict(X_test_scaled)\n",
    "# Create a predictions DataFrame\n",
    "predictions_df = pd.DataFrame(index=X_test.index)\n",
    "\n",
    "# Add the SVM model predictions to the DataFrame\n",
    "predictions_df['Predicted'] = testing_signal_predictions\n",
    "\n",
    "# Add the actual returns to the DataFrame\n",
    "predictions_df['Actual Returns'] = signals_df['Actual Returns']\n",
    "\n",
    "# Add the strategy returns to the DataFrame\n",
    "predictions_df['Strategy Returns'] = predictions_df['Actual Returns'] * predictions_df['Predicted']\n",
    "\n",
    "# Review the DataFrame\n",
    "display(predictions_df.head())\n",
    "display(predictions_df.tail())"
   ]
  },
  {
   "cell_type": "markdown",
   "id": "b2b28b57-1f51-48b7-9700-2d7c46558a59",
   "metadata": {},
   "source": [
    "# create a cumulative return plot that shows the actual returns vs. the strategy returns. "
   ]
  },
  {
   "cell_type": "code",
   "execution_count": 34,
   "id": "f2872231-c711-40b5-bac8-72194f8d34b1",
   "metadata": {},
   "outputs": [
    {
     "data": {
      "text/html": [
       "<div>\n",
       "<style scoped>\n",
       "    .dataframe tbody tr th:only-of-type {\n",
       "        vertical-align: middle;\n",
       "    }\n",
       "\n",
       "    .dataframe tbody tr th {\n",
       "        vertical-align: top;\n",
       "    }\n",
       "\n",
       "    .dataframe thead th {\n",
       "        text-align: right;\n",
       "    }\n",
       "</style>\n",
       "<table border=\"1\" class=\"dataframe\">\n",
       "  <thead>\n",
       "    <tr style=\"text-align: right;\">\n",
       "      <th></th>\n",
       "      <th>Actual Returns</th>\n",
       "      <th>Strategy Returns</th>\n",
       "    </tr>\n",
       "    <tr>\n",
       "      <th>Date</th>\n",
       "      <th></th>\n",
       "      <th></th>\n",
       "    </tr>\n",
       "  </thead>\n",
       "  <tbody>\n",
       "    <tr>\n",
       "      <th>2018-10-29</th>\n",
       "      <td>1.011937</td>\n",
       "      <td>0.988063</td>\n",
       "    </tr>\n",
       "    <tr>\n",
       "      <th>2018-10-30</th>\n",
       "      <td>0.985217</td>\n",
       "      <td>1.014783</td>\n",
       "    </tr>\n",
       "    <tr>\n",
       "      <th>2018-10-31</th>\n",
       "      <td>1.022492</td>\n",
       "      <td>0.977508</td>\n",
       "    </tr>\n",
       "    <tr>\n",
       "      <th>2018-11-01</th>\n",
       "      <td>1.020633</td>\n",
       "      <td>0.979367</td>\n",
       "    </tr>\n",
       "    <tr>\n",
       "      <th>2018-11-02</th>\n",
       "      <td>1.006187</td>\n",
       "      <td>0.993813</td>\n",
       "    </tr>\n",
       "    <tr>\n",
       "      <th>...</th>\n",
       "      <td>...</td>\n",
       "      <td>...</td>\n",
       "    </tr>\n",
       "    <tr>\n",
       "      <th>2022-05-27</th>\n",
       "      <td>1.073333</td>\n",
       "      <td>0.926667</td>\n",
       "    </tr>\n",
       "    <tr>\n",
       "      <th>2022-05-31</th>\n",
       "      <td>0.998196</td>\n",
       "      <td>1.001804</td>\n",
       "    </tr>\n",
       "    <tr>\n",
       "      <th>2022-06-01</th>\n",
       "      <td>0.976406</td>\n",
       "      <td>1.023594</td>\n",
       "    </tr>\n",
       "    <tr>\n",
       "      <th>2022-06-02</th>\n",
       "      <td>1.046774</td>\n",
       "      <td>0.953226</td>\n",
       "    </tr>\n",
       "    <tr>\n",
       "      <th>2022-06-03</th>\n",
       "      <td>0.907806</td>\n",
       "      <td>1.092194</td>\n",
       "    </tr>\n",
       "  </tbody>\n",
       "</table>\n",
       "<p>906 rows × 2 columns</p>\n",
       "</div>"
      ],
      "text/plain": [
       "            Actual Returns  Strategy Returns\n",
       "Date                                        \n",
       "2018-10-29        1.011937          0.988063\n",
       "2018-10-30        0.985217          1.014783\n",
       "2018-10-31        1.022492          0.977508\n",
       "2018-11-01        1.020633          0.979367\n",
       "2018-11-02        1.006187          0.993813\n",
       "...                    ...               ...\n",
       "2022-05-27        1.073333          0.926667\n",
       "2022-05-31        0.998196          1.001804\n",
       "2022-06-01        0.976406          1.023594\n",
       "2022-06-02        1.046774          0.953226\n",
       "2022-06-03        0.907806          1.092194\n",
       "\n",
       "[906 rows x 2 columns]"
      ]
     },
     "execution_count": 34,
     "metadata": {},
     "output_type": "execute_result"
    },
    {
     "data": {
      "image/png": "[encoded data removed]",
      "text/plain": [
       "<Figure size 432x288 with 1 Axes>"
      ]
     },
     "metadata": {
      "needs_background": "light"
     },
     "output_type": "display_data"
    }
   ],
   "source": [
    "# Plot the actual returns versus the strategy returns\n",
    "(1 + predictions_df[[\"Actual Returns\", \"Strategy Returns\"]]).cumprod().plot()\n",
    "(1 + predictions_df[[\"Actual Returns\", \"Strategy Returns\"]])"
   ]
  },
  {
   "cell_type": "code",
   "execution_count": 35,
   "id": "4aa58c8b-f47e-4c3c-9b01-467bb54afa1d",
   "metadata": {},
   "outputs": [
    {
     "data": {
      "text/plain": [
       "<Figure size 432x288 with 0 Axes>"
      ]
     },
     "metadata": {},
     "output_type": "display_data"
    }
   ],
   "source": [
    "plt.savefig(\"CumulativeReturnplot12mthoffset.png\")"
   ]
  },
  {
   "cell_type": "markdown",
   "id": "ce5f4c71-547e-4700-b0a3-0047fff78f57",
   "metadata": {},
   "source": [
    "# Evaluate Machine Learning Classifier"
   ]
  },
  {
   "cell_type": "code",
   "execution_count": 36,
   "id": "79bccdc0-c1b1-4253-9d39-13f9c26398f2",
   "metadata": {},
   "outputs": [
    {
     "data": {
      "text/html": [
       "<style>#sk-container-id-1 {color: black;background-color: white;}#sk-container-id-1 pre{padding: 0;}#sk-container-id-1 div.sk-toggleable {background-color: white;}#sk-container-id-1 label.sk-toggleable__label {cursor: pointer;display: block;width: 100%;margin-bottom: 0;padding: 0.3em;box-sizing: border-box;text-align: center;}#sk-container-id-1 label.sk-toggleable__label-arrow:before {content: \"▸\";float: left;margin-right: 0.25em;color: #696969;}#sk-container-id-1 label.sk-toggleable__label-arrow:hover:before {color: black;}#sk-container-id-1 div.sk-estimator:hover label.sk-toggleable__label-arrow:before {color: black;}#sk-container-id-1 div.sk-toggleable__content {max-height: 0;max-width: 0;overflow: hidden;text-align: left;background-color: #f0f8ff;}#sk-container-id-1 div.sk-toggleable__content pre {margin: 0.2em;color: black;border-radius: 0.25em;background-color: #f0f8ff;}#sk-container-id-1 input.sk-toggleable__control:checked~div.sk-toggleable__content {max-height: 200px;max-width: 100%;overflow: auto;}#sk-container-id-1 input.sk-toggleable__control:checked~label.sk-toggleable__label-arrow:before {content: \"▾\";}#sk-container-id-1 div.sk-estimator input.sk-toggleable__control:checked~label.sk-toggleable__label {background-color: #d4ebff;}#sk-container-id-1 div.sk-label input.sk-toggleable__control:checked~label.sk-toggleable__label {background-color: #d4ebff;}#sk-container-id-1 input.sk-hidden--visually {border: 0;clip: rect(1px 1px 1px 1px);clip: rect(1px, 1px, 1px, 1px);height: 1px;margin: -1px;overflow: hidden;padding: 0;position: absolute;width: 1px;}#sk-container-id-1 div.sk-estimator {font-family: monospace;background-color: #f0f8ff;border: 1px dotted black;border-radius: 0.25em;box-sizing: border-box;margin-bottom: 0.5em;}#sk-container-id-1 div.sk-estimator:hover {background-color: #d4ebff;}#sk-container-id-1 div.sk-parallel-item::after {content: \"\";width: 100%;border-bottom: 1px solid gray;flex-grow: 1;}#sk-container-id-1 div.sk-label:hover label.sk-toggleable__label {background-color: #d4ebff;}#sk-container-id-1 div.sk-serial::before {content: \"\";position: absolute;border-left: 1px solid gray;box-sizing: border-box;top: 0;bottom: 0;left: 50%;z-index: 0;}#sk-container-id-1 div.sk-serial {display: flex;flex-direction: column;align-items: center;background-color: white;padding-right: 0.2em;padding-left: 0.2em;position: relative;}#sk-container-id-1 div.sk-item {position: relative;z-index: 1;}#sk-container-id-1 div.sk-parallel {display: flex;align-items: stretch;justify-content: center;background-color: white;position: relative;}#sk-container-id-1 div.sk-item::before, #sk-container-id-1 div.sk-parallel-item::before {content: \"\";position: absolute;border-left: 1px solid gray;box-sizing: border-box;top: 0;bottom: 0;left: 50%;z-index: -1;}#sk-container-id-1 div.sk-parallel-item {display: flex;flex-direction: column;z-index: 1;position: relative;background-color: white;}#sk-container-id-1 div.sk-parallel-item:first-child::after {align-self: flex-end;width: 50%;}#sk-container-id-1 div.sk-parallel-item:last-child::after {align-self: flex-start;width: 50%;}#sk-container-id-1 div.sk-parallel-item:only-child::after {width: 0;}#sk-container-id-1 div.sk-dashed-wrapped {border: 1px dashed gray;margin: 0 0.4em 0.5em 0.4em;box-sizing: border-box;padding-bottom: 0.4em;background-color: white;}#sk-container-id-1 div.sk-label label {font-family: monospace;font-weight: bold;display: inline-block;line-height: 1.2em;}#sk-container-id-1 div.sk-label-container {text-align: center;}#sk-container-id-1 div.sk-container {/* jupyter's `normalize.less` sets `[hidden] { display: none; }` but bootstrap.min.css set `[hidden] { display: none !important; }` so we also need the `!important` here to be able to override the default hidden behavior on the sphinx rendered scikit-learn.org. See: https://github.com/scikit-learn/scikit-learn/issues/21755 */display: inline-block !important;position: relative;}#sk-container-id-1 div.sk-text-repr-fallback {display: none;}</style><div id=\"sk-container-id-1\" class=\"sk-top-container\"><div class=\"sk-text-repr-fallback\"><pre>RandomForestClassifier(n_estimators=10, random_state=0)</pre><b>In a Jupyter environment, please rerun this cell to show the HTML representation or trust the notebook. <br />On GitHub, the HTML representation is unable to render, please try loading this page with nbviewer.org.</b></div><div class=\"sk-container\" hidden><div class=\"sk-item\"><div class=\"sk-estimator sk-toggleable\"><input class=\"sk-toggleable__control sk-hidden--visually\" id=\"sk-estimator-id-1\" type=\"checkbox\" checked><label for=\"sk-estimator-id-1\" class=\"sk-toggleable__label sk-toggleable__label-arrow\">RandomForestClassifier</label><div class=\"sk-toggleable__content\"><pre>RandomForestClassifier(n_estimators=10, random_state=0)</pre></div></div></div></div></div>"
      ],
      "text/plain": [
       "RandomForestClassifier(n_estimators=10, random_state=0)"
      ]
     },
     "execution_count": 36,
     "metadata": {},
     "output_type": "execute_result"
    }
   ],
   "source": [
    "# Import a new classifier from SKLearn\n",
    "from sklearn.ensemble import RandomForestClassifier\n",
    "\n",
    "# Initiate the model instance\n",
    "RF_model = RandomForestClassifier(n_estimators=10, max_depth=None,\n",
    "    min_samples_split=2, random_state=0)\n",
    "\n",
    "RF_model "
   ]
  },
  {
   "cell_type": "markdown",
   "id": "59a1e8b4-22c3-4bc2-9d33-63cef2e3f094",
   "metadata": {},
   "source": [
    "# using the original training data as baseline model, fit another model with the new classifier"
   ]
  },
  {
   "cell_type": "code",
   "execution_count": 37,
   "id": "3dae6e91-ab5d-493d-a980-318e7fc6dbd5",
   "metadata": {},
   "outputs": [
    {
     "data": {
      "text/plain": [
       "array([ 1., -1., -1.,  1., -1., -1.,  1., -1.,  1., -1.])"
      ]
     },
     "execution_count": 37,
     "metadata": {},
     "output_type": "execute_result"
    }
   ],
   "source": [
    "# Fit the model using the training data\n",
    "RF_model = RF_model.fit(X_train_scaled, y_train)\n",
    "\n",
    "# Use the testing dataset to generate the predictions for the new model\n",
    "RF_model_predictions = RF_model.predict(X_train_scaled)\n",
    "\n",
    "# Review the model's predicted values\n",
    "RF_model_predictions[:10]"
   ]
  },
  {
   "cell_type": "markdown",
   "id": "0f06386c-99bd-4358-a1b9-11af2b08cfa5",
   "metadata": {},
   "source": [
    "# back test the new model to evaluate performance "
   ]
  },
  {
   "cell_type": "code",
   "execution_count": 39,
   "id": "671a2cc5-b265-47e6-8c71-0a19d74562ad",
   "metadata": {},
   "outputs": [
    {
     "name": "stdout",
     "output_type": "stream",
     "text": [
      "              precision    recall  f1-score   support\n",
      "\n",
      "        -1.0       0.46      0.95      0.62       419\n",
      "         1.0       0.49      0.04      0.08       487\n",
      "\n",
      "    accuracy                           0.46       906\n",
      "   macro avg       0.47      0.50      0.35       906\n",
      "weighted avg       0.48      0.46      0.33       906\n",
      "\n"
     ]
    }
   ],
   "source": [
    "# Use a classification report to evaluate the model using the predictions and testing data\n",
    "RF_training_report = classification_report(y_test, testing_signal_predictions)\n",
    "\n",
    "# Print the classification report\n",
    "print(RF_training_report)"
   ]
  },
  {
   "cell_type": "code",
   "execution_count": 40,
   "id": "35f26df3-6cc0-40a3-a973-3ef2c3023570",
   "metadata": {},
   "outputs": [
    {
     "data": {
      "text/html": [
       "<div>\n",
       "<style scoped>\n",
       "    .dataframe tbody tr th:only-of-type {\n",
       "        vertical-align: middle;\n",
       "    }\n",
       "\n",
       "    .dataframe tbody tr th {\n",
       "        vertical-align: top;\n",
       "    }\n",
       "\n",
       "    .dataframe thead th {\n",
       "        text-align: right;\n",
       "    }\n",
       "</style>\n",
       "<table border=\"1\" class=\"dataframe\">\n",
       "  <thead>\n",
       "    <tr style=\"text-align: right;\">\n",
       "      <th></th>\n",
       "      <th>Predicted</th>\n",
       "      <th>Actual Returns</th>\n",
       "      <th>Strategy Returns</th>\n",
       "    </tr>\n",
       "    <tr>\n",
       "      <th>Date</th>\n",
       "      <th></th>\n",
       "      <th></th>\n",
       "      <th></th>\n",
       "    </tr>\n",
       "  </thead>\n",
       "  <tbody>\n",
       "    <tr>\n",
       "      <th>2018-10-29</th>\n",
       "      <td>1.0</td>\n",
       "      <td>0.011937</td>\n",
       "      <td>0.011937</td>\n",
       "    </tr>\n",
       "    <tr>\n",
       "      <th>2018-10-30</th>\n",
       "      <td>1.0</td>\n",
       "      <td>-0.014783</td>\n",
       "      <td>-0.014783</td>\n",
       "    </tr>\n",
       "    <tr>\n",
       "      <th>2018-10-31</th>\n",
       "      <td>1.0</td>\n",
       "      <td>0.022492</td>\n",
       "      <td>0.022492</td>\n",
       "    </tr>\n",
       "    <tr>\n",
       "      <th>2018-11-01</th>\n",
       "      <td>1.0</td>\n",
       "      <td>0.020633</td>\n",
       "      <td>0.020633</td>\n",
       "    </tr>\n",
       "    <tr>\n",
       "      <th>2018-11-02</th>\n",
       "      <td>1.0</td>\n",
       "      <td>0.006187</td>\n",
       "      <td>0.006187</td>\n",
       "    </tr>\n",
       "  </tbody>\n",
       "</table>\n",
       "</div>"
      ],
      "text/plain": [
       "            Predicted  Actual Returns  Strategy Returns\n",
       "Date                                                   \n",
       "2018-10-29        1.0        0.011937          0.011937\n",
       "2018-10-30        1.0       -0.014783         -0.014783\n",
       "2018-10-31        1.0        0.022492          0.022492\n",
       "2018-11-01        1.0        0.020633          0.020633\n",
       "2018-11-02        1.0        0.006187          0.006187"
      ]
     },
     "metadata": {},
     "output_type": "display_data"
    },
    {
     "data": {
      "text/html": [
       "<div>\n",
       "<style scoped>\n",
       "    .dataframe tbody tr th:only-of-type {\n",
       "        vertical-align: middle;\n",
       "    }\n",
       "\n",
       "    .dataframe tbody tr th {\n",
       "        vertical-align: top;\n",
       "    }\n",
       "\n",
       "    .dataframe thead th {\n",
       "        text-align: right;\n",
       "    }\n",
       "</style>\n",
       "<table border=\"1\" class=\"dataframe\">\n",
       "  <thead>\n",
       "    <tr style=\"text-align: right;\">\n",
       "      <th></th>\n",
       "      <th>Predicted</th>\n",
       "      <th>Actual Returns</th>\n",
       "      <th>Strategy Returns</th>\n",
       "    </tr>\n",
       "    <tr>\n",
       "      <th>Date</th>\n",
       "      <th></th>\n",
       "      <th></th>\n",
       "      <th></th>\n",
       "    </tr>\n",
       "  </thead>\n",
       "  <tbody>\n",
       "    <tr>\n",
       "      <th>2022-05-27</th>\n",
       "      <td>-1.0</td>\n",
       "      <td>0.073333</td>\n",
       "      <td>-0.073333</td>\n",
       "    </tr>\n",
       "    <tr>\n",
       "      <th>2022-05-31</th>\n",
       "      <td>-1.0</td>\n",
       "      <td>-0.001804</td>\n",
       "      <td>0.001804</td>\n",
       "    </tr>\n",
       "    <tr>\n",
       "      <th>2022-06-01</th>\n",
       "      <td>-1.0</td>\n",
       "      <td>-0.023594</td>\n",
       "      <td>0.023594</td>\n",
       "    </tr>\n",
       "    <tr>\n",
       "      <th>2022-06-02</th>\n",
       "      <td>-1.0</td>\n",
       "      <td>0.046774</td>\n",
       "      <td>-0.046774</td>\n",
       "    </tr>\n",
       "    <tr>\n",
       "      <th>2022-06-03</th>\n",
       "      <td>-1.0</td>\n",
       "      <td>-0.092194</td>\n",
       "      <td>0.092194</td>\n",
       "    </tr>\n",
       "  </tbody>\n",
       "</table>\n",
       "</div>"
      ],
      "text/plain": [
       "            Predicted  Actual Returns  Strategy Returns\n",
       "Date                                                   \n",
       "2022-05-27       -1.0        0.073333         -0.073333\n",
       "2022-05-31       -1.0       -0.001804          0.001804\n",
       "2022-06-01       -1.0       -0.023594          0.023594\n",
       "2022-06-02       -1.0        0.046774         -0.046774\n",
       "2022-06-03       -1.0       -0.092194          0.092194"
      ]
     },
     "metadata": {},
     "output_type": "display_data"
    }
   ],
   "source": [
    "# Create a new empty predictions DataFrame.\n",
    "testing_signal_predictions = RF_model.predict(X_test_scaled)\n",
    "# Create a predictions DataFrame\n",
    "predictions_df = pd.DataFrame(index=X_test.index)\n",
    "\n",
    "# Add the SVM model predictions to the DataFrame\n",
    "predictions_df['Predicted'] = testing_signal_predictions\n",
    "\n",
    "# Add the actual returns to the DataFrame\n",
    "predictions_df['Actual Returns'] = signals_df['Actual Returns']\n",
    "\n",
    "# Add the strategy returns to the DataFrame\n",
    "predictions_df['Strategy Returns'] = predictions_df['Actual Returns'] * predictions_df['Predicted']\n",
    "\n",
    "# Review the DataFrame\n",
    "display(predictions_df.head())\n",
    "display(predictions_df.tail())"
   ]
  },
  {
   "cell_type": "code",
   "execution_count": 41,
   "id": "77fa2391-d3f4-47e9-857a-433f37a230eb",
   "metadata": {},
   "outputs": [
    {
     "data": {
      "text/plain": [
       "<AxesSubplot:xlabel='Date'>"
      ]
     },
     "execution_count": 41,
     "metadata": {},
     "output_type": "execute_result"
    },
    {
     "data": {
      "image/png": "[encoded data removed]",
      "text/plain": [
       "<Figure size 432x288 with 1 Axes>"
      ]
     },
     "metadata": {
      "needs_background": "light"
     },
     "output_type": "display_data"
    }
   ],
   "source": [
    "# Plot the actual returns versus the strategy returns\n",
    "(1 + predictions_df[[\"Actual Returns\", \"Strategy Returns\"]]).cumprod().plot()"
   ]
  },
  {
   "cell_type": "code",
   "execution_count": 42,
   "id": "8aa7473f-ddd6-4d1a-8a4f-be656fe9d99a",
   "metadata": {},
   "outputs": [
    {
     "data": {
      "text/plain": [
       "<Figure size 432x288 with 0 Axes>"
      ]
     },
     "metadata": {},
     "output_type": "display_data"
    }
   ],
   "source": [
    "plt.savefig(\"RF Prediction - 12mth Offset\")"
   ]
  },
  {
   "cell_type": "code",
   "execution_count": 43,
   "id": "f0bb8967-13d9-41c4-9ec9-2892784d0223",
   "metadata": {},
   "outputs": [],
   "source": [
    "# Now we will look at AdaBoostClassifier as a comparison supervised learning moduel \n",
    "# Import a new classifier from SKLearn\n",
    "\n",
    "from sklearn.model_selection import cross_val_score\n",
    "from sklearn.datasets import load_iris\n",
    "from sklearn.ensemble import AdaBoostClassifier"
   ]
  },
  {
   "cell_type": "code",
   "execution_count": 44,
   "id": "f49bed8d-fb07-4d55-9053-34a403964576",
   "metadata": {},
   "outputs": [
    {
     "data": {
      "text/html": [
       "<style>#sk-container-id-2 {color: black;background-color: white;}#sk-container-id-2 pre{padding: 0;}#sk-container-id-2 div.sk-toggleable {background-color: white;}#sk-container-id-2 label.sk-toggleable__label {cursor: pointer;display: block;width: 100%;margin-bottom: 0;padding: 0.3em;box-sizing: border-box;text-align: center;}#sk-container-id-2 label.sk-toggleable__label-arrow:before {content: \"▸\";float: left;margin-right: 0.25em;color: #696969;}#sk-container-id-2 label.sk-toggleable__label-arrow:hover:before {color: black;}#sk-container-id-2 div.sk-estimator:hover label.sk-toggleable__label-arrow:before {color: black;}#sk-container-id-2 div.sk-toggleable__content {max-height: 0;max-width: 0;overflow: hidden;text-align: left;background-color: #f0f8ff;}#sk-container-id-2 div.sk-toggleable__content pre {margin: 0.2em;color: black;border-radius: 0.25em;background-color: #f0f8ff;}#sk-container-id-2 input.sk-toggleable__control:checked~div.sk-toggleable__content {max-height: 200px;max-width: 100%;overflow: auto;}#sk-container-id-2 input.sk-toggleable__control:checked~label.sk-toggleable__label-arrow:before {content: \"▾\";}#sk-container-id-2 div.sk-estimator input.sk-toggleable__control:checked~label.sk-toggleable__label {background-color: #d4ebff;}#sk-container-id-2 div.sk-label input.sk-toggleable__control:checked~label.sk-toggleable__label {background-color: #d4ebff;}#sk-container-id-2 input.sk-hidden--visually {border: 0;clip: rect(1px 1px 1px 1px);clip: rect(1px, 1px, 1px, 1px);height: 1px;margin: -1px;overflow: hidden;padding: 0;position: absolute;width: 1px;}#sk-container-id-2 div.sk-estimator {font-family: monospace;background-color: #f0f8ff;border: 1px dotted black;border-radius: 0.25em;box-sizing: border-box;margin-bottom: 0.5em;}#sk-container-id-2 div.sk-estimator:hover {background-color: #d4ebff;}#sk-container-id-2 div.sk-parallel-item::after {content: \"\";width: 100%;border-bottom: 1px solid gray;flex-grow: 1;}#sk-container-id-2 div.sk-label:hover label.sk-toggleable__label {background-color: #d4ebff;}#sk-container-id-2 div.sk-serial::before {content: \"\";position: absolute;border-left: 1px solid gray;box-sizing: border-box;top: 0;bottom: 0;left: 50%;z-index: 0;}#sk-container-id-2 div.sk-serial {display: flex;flex-direction: column;align-items: center;background-color: white;padding-right: 0.2em;padding-left: 0.2em;position: relative;}#sk-container-id-2 div.sk-item {position: relative;z-index: 1;}#sk-container-id-2 div.sk-parallel {display: flex;align-items: stretch;justify-content: center;background-color: white;position: relative;}#sk-container-id-2 div.sk-item::before, #sk-container-id-2 div.sk-parallel-item::before {content: \"\";position: absolute;border-left: 1px solid gray;box-sizing: border-box;top: 0;bottom: 0;left: 50%;z-index: -1;}#sk-container-id-2 div.sk-parallel-item {display: flex;flex-direction: column;z-index: 1;position: relative;background-color: white;}#sk-container-id-2 div.sk-parallel-item:first-child::after {align-self: flex-end;width: 50%;}#sk-container-id-2 div.sk-parallel-item:last-child::after {align-self: flex-start;width: 50%;}#sk-container-id-2 div.sk-parallel-item:only-child::after {width: 0;}#sk-container-id-2 div.sk-dashed-wrapped {border: 1px dashed gray;margin: 0 0.4em 0.5em 0.4em;box-sizing: border-box;padding-bottom: 0.4em;background-color: white;}#sk-container-id-2 div.sk-label label {font-family: monospace;font-weight: bold;display: inline-block;line-height: 1.2em;}#sk-container-id-2 div.sk-label-container {text-align: center;}#sk-container-id-2 div.sk-container {/* jupyter's `normalize.less` sets `[hidden] { display: none; }` but bootstrap.min.css set `[hidden] { display: none !important; }` so we also need the `!important` here to be able to override the default hidden behavior on the sphinx rendered scikit-learn.org. See: https://github.com/scikit-learn/scikit-learn/issues/21755 */display: inline-block !important;position: relative;}#sk-container-id-2 div.sk-text-repr-fallback {display: none;}</style><div id=\"sk-container-id-2\" class=\"sk-top-container\"><div class=\"sk-text-repr-fallback\"><pre>AdaBoostClassifier(n_estimators=100)</pre><b>In a Jupyter environment, please rerun this cell to show the HTML representation or trust the notebook. <br />On GitHub, the HTML representation is unable to render, please try loading this page with nbviewer.org.</b></div><div class=\"sk-container\" hidden><div class=\"sk-item\"><div class=\"sk-estimator sk-toggleable\"><input class=\"sk-toggleable__control sk-hidden--visually\" id=\"sk-estimator-id-2\" type=\"checkbox\" checked><label for=\"sk-estimator-id-2\" class=\"sk-toggleable__label sk-toggleable__label-arrow\">AdaBoostClassifier</label><div class=\"sk-toggleable__content\"><pre>AdaBoostClassifier(n_estimators=100)</pre></div></div></div></div></div>"
      ],
      "text/plain": [
       "AdaBoostClassifier(n_estimators=100)"
      ]
     },
     "execution_count": 44,
     "metadata": {},
     "output_type": "execute_result"
    }
   ],
   "source": [
    "ada_model = AdaBoostClassifier(n_estimators=100)\n",
    "\n",
    "ada_model "
   ]
  },
  {
   "cell_type": "code",
   "execution_count": 45,
   "id": "4a75fc1a-c34f-4451-bf89-f75d65ac755b",
   "metadata": {},
   "outputs": [
    {
     "data": {
      "text/plain": [
       "array([ 1., -1., -1.,  1., -1., -1.,  1., -1.,  1., -1.])"
      ]
     },
     "execution_count": 45,
     "metadata": {},
     "output_type": "execute_result"
    }
   ],
   "source": [
    "ada_model = ada_model.fit(X_train_scaled, y_train)\n",
    "ada_model_predictions = ada_model.predict(X_train_scaled)\n",
    "# Review the model's predicted values\n",
    "ada_model_predictions[:10]"
   ]
  },
  {
   "cell_type": "code",
   "execution_count": 46,
   "id": "70813934-c78d-4f27-9186-8889751e536c",
   "metadata": {},
   "outputs": [
    {
     "name": "stdout",
     "output_type": "stream",
     "text": [
      "              precision    recall  f1-score   support\n",
      "\n",
      "        -1.0       0.46      0.77      0.57       419\n",
      "         1.0       0.52      0.21      0.30       487\n",
      "\n",
      "    accuracy                           0.47       906\n",
      "   macro avg       0.49      0.49      0.44       906\n",
      "weighted avg       0.49      0.47      0.43       906\n",
      "\n"
     ]
    }
   ],
   "source": [
    "# Use a classification report to evaluate the model using the predictions and testing data\n",
    "ada_training_report = classification_report(y_test, testing_signal_predictions)\n",
    "\n",
    "# Print the classification report\n",
    "print(ada_training_report)"
   ]
  },
  {
   "cell_type": "code",
   "execution_count": 47,
   "id": "0b1f2950-8ecb-4ff5-a458-8714a5ed5b1c",
   "metadata": {},
   "outputs": [
    {
     "data": {
      "text/html": [
       "<div>\n",
       "<style scoped>\n",
       "    .dataframe tbody tr th:only-of-type {\n",
       "        vertical-align: middle;\n",
       "    }\n",
       "\n",
       "    .dataframe tbody tr th {\n",
       "        vertical-align: top;\n",
       "    }\n",
       "\n",
       "    .dataframe thead th {\n",
       "        text-align: right;\n",
       "    }\n",
       "</style>\n",
       "<table border=\"1\" class=\"dataframe\">\n",
       "  <thead>\n",
       "    <tr style=\"text-align: right;\">\n",
       "      <th></th>\n",
       "      <th>Predicted</th>\n",
       "      <th>Actual Returns</th>\n",
       "      <th>Strategy Returns</th>\n",
       "    </tr>\n",
       "    <tr>\n",
       "      <th>Date</th>\n",
       "      <th></th>\n",
       "      <th></th>\n",
       "      <th></th>\n",
       "    </tr>\n",
       "  </thead>\n",
       "  <tbody>\n",
       "    <tr>\n",
       "      <th>2018-10-29</th>\n",
       "      <td>1.0</td>\n",
       "      <td>0.011937</td>\n",
       "      <td>0.011937</td>\n",
       "    </tr>\n",
       "    <tr>\n",
       "      <th>2018-10-30</th>\n",
       "      <td>1.0</td>\n",
       "      <td>-0.014783</td>\n",
       "      <td>-0.014783</td>\n",
       "    </tr>\n",
       "    <tr>\n",
       "      <th>2018-10-31</th>\n",
       "      <td>1.0</td>\n",
       "      <td>0.022492</td>\n",
       "      <td>0.022492</td>\n",
       "    </tr>\n",
       "    <tr>\n",
       "      <th>2018-11-01</th>\n",
       "      <td>1.0</td>\n",
       "      <td>0.020633</td>\n",
       "      <td>0.020633</td>\n",
       "    </tr>\n",
       "    <tr>\n",
       "      <th>2018-11-02</th>\n",
       "      <td>1.0</td>\n",
       "      <td>0.006187</td>\n",
       "      <td>0.006187</td>\n",
       "    </tr>\n",
       "  </tbody>\n",
       "</table>\n",
       "</div>"
      ],
      "text/plain": [
       "            Predicted  Actual Returns  Strategy Returns\n",
       "Date                                                   \n",
       "2018-10-29        1.0        0.011937          0.011937\n",
       "2018-10-30        1.0       -0.014783         -0.014783\n",
       "2018-10-31        1.0        0.022492          0.022492\n",
       "2018-11-01        1.0        0.020633          0.020633\n",
       "2018-11-02        1.0        0.006187          0.006187"
      ]
     },
     "metadata": {},
     "output_type": "display_data"
    },
    {
     "data": {
      "text/html": [
       "<div>\n",
       "<style scoped>\n",
       "    .dataframe tbody tr th:only-of-type {\n",
       "        vertical-align: middle;\n",
       "    }\n",
       "\n",
       "    .dataframe tbody tr th {\n",
       "        vertical-align: top;\n",
       "    }\n",
       "\n",
       "    .dataframe thead th {\n",
       "        text-align: right;\n",
       "    }\n",
       "</style>\n",
       "<table border=\"1\" class=\"dataframe\">\n",
       "  <thead>\n",
       "    <tr style=\"text-align: right;\">\n",
       "      <th></th>\n",
       "      <th>Predicted</th>\n",
       "      <th>Actual Returns</th>\n",
       "      <th>Strategy Returns</th>\n",
       "    </tr>\n",
       "    <tr>\n",
       "      <th>Date</th>\n",
       "      <th></th>\n",
       "      <th></th>\n",
       "      <th></th>\n",
       "    </tr>\n",
       "  </thead>\n",
       "  <tbody>\n",
       "    <tr>\n",
       "      <th>2022-05-27</th>\n",
       "      <td>1.0</td>\n",
       "      <td>0.073333</td>\n",
       "      <td>0.073333</td>\n",
       "    </tr>\n",
       "    <tr>\n",
       "      <th>2022-05-31</th>\n",
       "      <td>1.0</td>\n",
       "      <td>-0.001804</td>\n",
       "      <td>-0.001804</td>\n",
       "    </tr>\n",
       "    <tr>\n",
       "      <th>2022-06-01</th>\n",
       "      <td>1.0</td>\n",
       "      <td>-0.023594</td>\n",
       "      <td>-0.023594</td>\n",
       "    </tr>\n",
       "    <tr>\n",
       "      <th>2022-06-02</th>\n",
       "      <td>1.0</td>\n",
       "      <td>0.046774</td>\n",
       "      <td>0.046774</td>\n",
       "    </tr>\n",
       "    <tr>\n",
       "      <th>2022-06-03</th>\n",
       "      <td>1.0</td>\n",
       "      <td>-0.092194</td>\n",
       "      <td>-0.092194</td>\n",
       "    </tr>\n",
       "  </tbody>\n",
       "</table>\n",
       "</div>"
      ],
      "text/plain": [
       "            Predicted  Actual Returns  Strategy Returns\n",
       "Date                                                   \n",
       "2022-05-27        1.0        0.073333          0.073333\n",
       "2022-05-31        1.0       -0.001804         -0.001804\n",
       "2022-06-01        1.0       -0.023594         -0.023594\n",
       "2022-06-02        1.0        0.046774          0.046774\n",
       "2022-06-03        1.0       -0.092194         -0.092194"
      ]
     },
     "metadata": {},
     "output_type": "display_data"
    }
   ],
   "source": [
    "# Create a new empty predictions DataFrame.\n",
    "testing_signal_predictions = ada_model.predict(X_test_scaled)\n",
    "# Create a predictions DataFrame\n",
    "predictions_df = pd.DataFrame(index=X_test.index)\n",
    "\n",
    "# Add the ADA boost model predictions to the DataFrame\n",
    "predictions_df['Predicted'] = testing_signal_predictions\n",
    "\n",
    "# Add the actual returns to the DataFrame\n",
    "predictions_df['Actual Returns'] = signals_df['Actual Returns']\n",
    "\n",
    "# Add the strategy returns to the DataFrame\n",
    "predictions_df['Strategy Returns'] = predictions_df['Actual Returns'] * predictions_df['Predicted']\n",
    "\n",
    "# Review the DataFrame\n",
    "display(predictions_df.head())\n",
    "display(predictions_df.tail())"
   ]
  },
  {
   "cell_type": "code",
   "execution_count": 48,
   "id": "744cbc91-85ad-4545-9823-bd46d08c7411",
   "metadata": {},
   "outputs": [
    {
     "data": {
      "text/plain": [
       "<AxesSubplot:xlabel='Date'>"
      ]
     },
     "execution_count": 48,
     "metadata": {},
     "output_type": "execute_result"
    },
    {
     "data": {
      "image/png": "[encoded data removed]",
      "text/plain": [
       "<Figure size 432x288 with 1 Axes>"
      ]
     },
     "metadata": {
      "needs_background": "light"
     },
     "output_type": "display_data"
    }
   ],
   "source": [
    "# Plot the actual returns versus the strategy returns\n",
    "(1 + predictions_df[[\"Actual Returns\", \"Strategy Returns\"]]).cumprod().plot()"
   ]
  },
  {
   "cell_type": "code",
   "execution_count": 49,
   "id": "088cb2e0-009f-479b-a238-2b2813fb60e9",
   "metadata": {},
   "outputs": [
    {
     "data": {
      "text/plain": [
       "<Figure size 432x288 with 0 Axes>"
      ]
     },
     "metadata": {},
     "output_type": "display_data"
    }
   ],
   "source": [
    "plt.savefig(\"ADA Boost Prediction 12mth Offset\")"
   ]
  },
  {
   "cell_type": "code",
   "execution_count": null,
   "id": "60cf7f5e-0f8e-4f8d-8a4c-90a9efb166a2",
   "metadata": {},
   "outputs": [],
   "source": []
  }
 ],
 "metadata": {
  "kernelspec": {
   "display_name": "Python 3 (ipykernel)",
   "language": "python",
   "name": "python3"
  },
  "language_info": {
   "codemirror_mode": {
    "name": "ipython",
    "version": 3
   },
   "file_extension": ".py",
   "mimetype": "text/x-python",
   "name": "python",
   "nbconvert_exporter": "python",
   "pygments_lexer": "ipython3",
   "version": "3.9.7"
  }
 },
 "nbformat": 4,
 "nbformat_minor": 5
}
