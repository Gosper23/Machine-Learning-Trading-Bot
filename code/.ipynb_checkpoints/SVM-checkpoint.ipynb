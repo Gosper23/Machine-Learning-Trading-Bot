{
 "cells": [
  {
   "cell_type": "markdown",
   "id": "2e6eaeee",
   "metadata": {},
   "source": [
    "### Support Vector Classifier Strategy\n",
    "\n",
    "This notebook uses support vector classifier (SVC) algorithm and its step by step implementation on Tesla stock.\n",
    "\n",
    "SVCs are supervised learning models. A set of training data is provided to the SVC algorithm, each belonging to one of the categories. For instance, the categories can be either to buy or to sell a stock. The algorithm builds a model during training phase and assigns new data into one of the categories based on the model crated during the training phase."
   ]
  },
  {
   "cell_type": "markdown",
   "id": "9d3892f7",
   "metadata": {},
   "source": [
    "## Importing the libraries"
   ]
  },
  {
   "cell_type": "code",
   "execution_count": 38,
   "id": "07bc6d61",
   "metadata": {},
   "outputs": [],
   "source": [
    "# Machine learning\n",
    "from sklearn.svm import SVC\n",
    "from sklearn.metrics import make_scorer\n",
    "from sklearn.metrics import accuracy_score\n",
    "\n",
    "from sklearn import svm\n",
    "from sklearn.preprocessing import StandardScaler\n",
    "from pandas.tseries.offsets import DateOffset\n",
    "from sklearn.metrics import classification_report\n",
    "\n",
    "# For data manipulation\n",
    "import pandas as pd\n",
    "import numpy as np\n",
    "\n",
    "# To plot\n",
    "import matplotlib.pyplot as plt\n",
    "import seaborn\n",
    "\n",
    "# To fetch data\n",
    "from pandas_datareader import data as pdr   \n",
    "import yfinance as yf  \n",
    "yf.pdr_override()\n",
    "\n",
    "import warnings\n",
    "warnings.filterwarnings('ignore')"
   ]
  },
  {
   "cell_type": "markdown",
   "id": "263ae5f1",
   "metadata": {},
   "source": [
    "## Downloading Tesla stock data"
   ]
  },
  {
   "cell_type": "code",
   "execution_count": 12,
   "id": "2098ba72",
   "metadata": {},
   "outputs": [
    {
     "name": "stdout",
     "output_type": "stream",
     "text": [
      "[*********************100%***********************]  1 of 1 completed\n"
     ]
    },
    {
     "data": {
      "text/html": [
       "<div>\n",
       "<style scoped>\n",
       "    .dataframe tbody tr th:only-of-type {\n",
       "        vertical-align: middle;\n",
       "    }\n",
       "\n",
       "    .dataframe tbody tr th {\n",
       "        vertical-align: top;\n",
       "    }\n",
       "\n",
       "    .dataframe thead th {\n",
       "        text-align: right;\n",
       "    }\n",
       "</style>\n",
       "<table border=\"1\" class=\"dataframe\">\n",
       "  <thead>\n",
       "    <tr style=\"text-align: right;\">\n",
       "      <th></th>\n",
       "      <th>Open</th>\n",
       "      <th>High</th>\n",
       "      <th>Low</th>\n",
       "      <th>Close</th>\n",
       "      <th>Adj Close</th>\n",
       "      <th>Volume</th>\n",
       "    </tr>\n",
       "    <tr>\n",
       "      <th>Date</th>\n",
       "      <th></th>\n",
       "      <th></th>\n",
       "      <th></th>\n",
       "      <th></th>\n",
       "      <th></th>\n",
       "      <th></th>\n",
       "    </tr>\n",
       "  </thead>\n",
       "  <tbody>\n",
       "    <tr>\n",
       "      <th>2015-12-31</th>\n",
       "      <td>47.702000</td>\n",
       "      <td>48.689999</td>\n",
       "      <td>47.674000</td>\n",
       "      <td>48.001999</td>\n",
       "      <td>48.001999</td>\n",
       "      <td>13575000</td>\n",
       "    </tr>\n",
       "    <tr>\n",
       "      <th>2016-01-04</th>\n",
       "      <td>46.144001</td>\n",
       "      <td>46.276001</td>\n",
       "      <td>43.799999</td>\n",
       "      <td>44.681999</td>\n",
       "      <td>44.681999</td>\n",
       "      <td>34135500</td>\n",
       "    </tr>\n",
       "    <tr>\n",
       "      <th>2016-01-05</th>\n",
       "      <td>45.271999</td>\n",
       "      <td>45.377998</td>\n",
       "      <td>44.000000</td>\n",
       "      <td>44.686001</td>\n",
       "      <td>44.686001</td>\n",
       "      <td>15934000</td>\n",
       "    </tr>\n",
       "    <tr>\n",
       "      <th>2016-01-06</th>\n",
       "      <td>44.000000</td>\n",
       "      <td>44.009998</td>\n",
       "      <td>43.195999</td>\n",
       "      <td>43.807999</td>\n",
       "      <td>43.807999</td>\n",
       "      <td>18895500</td>\n",
       "    </tr>\n",
       "    <tr>\n",
       "      <th>2016-01-07</th>\n",
       "      <td>42.838001</td>\n",
       "      <td>43.688000</td>\n",
       "      <td>42.734001</td>\n",
       "      <td>43.130001</td>\n",
       "      <td>43.130001</td>\n",
       "      <td>17771500</td>\n",
       "    </tr>\n",
       "  </tbody>\n",
       "</table>\n",
       "</div>"
      ],
      "text/plain": [
       "                 Open       High        Low      Close  Adj Close    Volume\n",
       "Date                                                                       \n",
       "2015-12-31  47.702000  48.689999  47.674000  48.001999  48.001999  13575000\n",
       "2016-01-04  46.144001  46.276001  43.799999  44.681999  44.681999  34135500\n",
       "2016-01-05  45.271999  45.377998  44.000000  44.686001  44.686001  15934000\n",
       "2016-01-06  44.000000  44.009998  43.195999  43.807999  43.807999  18895500\n",
       "2016-01-07  42.838001  43.688000  42.734001  43.130001  43.130001  17771500"
      ]
     },
     "execution_count": 12,
     "metadata": {},
     "output_type": "execute_result"
    }
   ],
   "source": [
    "Df = pdr.get_data_yahoo('TSLA', start=\"2016-01-01\", end=\"2022-01-07\")   \n",
    "\n",
    "Df.head()"
   ]
  },
  {
   "cell_type": "code",
   "execution_count": 23,
   "id": "572d920b",
   "metadata": {},
   "outputs": [
    {
     "data": {
      "text/html": [
       "<div>\n",
       "<style scoped>\n",
       "    .dataframe tbody tr th:only-of-type {\n",
       "        vertical-align: middle;\n",
       "    }\n",
       "\n",
       "    .dataframe tbody tr th {\n",
       "        vertical-align: top;\n",
       "    }\n",
       "\n",
       "    .dataframe thead th {\n",
       "        text-align: right;\n",
       "    }\n",
       "</style>\n",
       "<table border=\"1\" class=\"dataframe\">\n",
       "  <thead>\n",
       "    <tr style=\"text-align: right;\">\n",
       "      <th></th>\n",
       "      <th>Close</th>\n",
       "      <th>Actual Returns</th>\n",
       "    </tr>\n",
       "    <tr>\n",
       "      <th>Date</th>\n",
       "      <th></th>\n",
       "      <th></th>\n",
       "    </tr>\n",
       "  </thead>\n",
       "  <tbody>\n",
       "    <tr>\n",
       "      <th>2016-01-04</th>\n",
       "      <td>44.681999</td>\n",
       "      <td>-0.069164</td>\n",
       "    </tr>\n",
       "    <tr>\n",
       "      <th>2016-01-05</th>\n",
       "      <td>44.686001</td>\n",
       "      <td>0.000090</td>\n",
       "    </tr>\n",
       "    <tr>\n",
       "      <th>2016-01-06</th>\n",
       "      <td>43.807999</td>\n",
       "      <td>-0.019648</td>\n",
       "    </tr>\n",
       "    <tr>\n",
       "      <th>2016-01-07</th>\n",
       "      <td>43.130001</td>\n",
       "      <td>-0.015477</td>\n",
       "    </tr>\n",
       "    <tr>\n",
       "      <th>2016-01-08</th>\n",
       "      <td>42.200001</td>\n",
       "      <td>-0.021563</td>\n",
       "    </tr>\n",
       "  </tbody>\n",
       "</table>\n",
       "</div>"
      ],
      "text/plain": [
       "                Close  Actual Returns\n",
       "Date                                 \n",
       "2016-01-04  44.681999       -0.069164\n",
       "2016-01-05  44.686001        0.000090\n",
       "2016-01-06  43.807999       -0.019648\n",
       "2016-01-07  43.130001       -0.015477\n",
       "2016-01-08  42.200001       -0.021563"
      ]
     },
     "metadata": {},
     "output_type": "display_data"
    },
    {
     "data": {
      "text/html": [
       "<div>\n",
       "<style scoped>\n",
       "    .dataframe tbody tr th:only-of-type {\n",
       "        vertical-align: middle;\n",
       "    }\n",
       "\n",
       "    .dataframe tbody tr th {\n",
       "        vertical-align: top;\n",
       "    }\n",
       "\n",
       "    .dataframe thead th {\n",
       "        text-align: right;\n",
       "    }\n",
       "</style>\n",
       "<table border=\"1\" class=\"dataframe\">\n",
       "  <thead>\n",
       "    <tr style=\"text-align: right;\">\n",
       "      <th></th>\n",
       "      <th>Close</th>\n",
       "      <th>Actual Returns</th>\n",
       "    </tr>\n",
       "    <tr>\n",
       "      <th>Date</th>\n",
       "      <th></th>\n",
       "      <th></th>\n",
       "    </tr>\n",
       "  </thead>\n",
       "  <tbody>\n",
       "    <tr>\n",
       "      <th>2021-12-30</th>\n",
       "      <td>1070.339966</td>\n",
       "      <td>-0.014592</td>\n",
       "    </tr>\n",
       "    <tr>\n",
       "      <th>2021-12-31</th>\n",
       "      <td>1056.780029</td>\n",
       "      <td>-0.012669</td>\n",
       "    </tr>\n",
       "    <tr>\n",
       "      <th>2022-01-03</th>\n",
       "      <td>1199.780029</td>\n",
       "      <td>0.135317</td>\n",
       "    </tr>\n",
       "    <tr>\n",
       "      <th>2022-01-04</th>\n",
       "      <td>1149.589966</td>\n",
       "      <td>-0.041833</td>\n",
       "    </tr>\n",
       "    <tr>\n",
       "      <th>2022-01-05</th>\n",
       "      <td>1088.119995</td>\n",
       "      <td>-0.053471</td>\n",
       "    </tr>\n",
       "  </tbody>\n",
       "</table>\n",
       "</div>"
      ],
      "text/plain": [
       "                  Close  Actual Returns\n",
       "Date                                   \n",
       "2021-12-30  1070.339966       -0.014592\n",
       "2021-12-31  1056.780029       -0.012669\n",
       "2022-01-03  1199.780029        0.135317\n",
       "2022-01-04  1149.589966       -0.041833\n",
       "2022-01-05  1088.119995       -0.053471"
      ]
     },
     "metadata": {},
     "output_type": "display_data"
    }
   ],
   "source": [
    "# Filter the date index and close columns\n",
    "signals_df = Df.loc[:, [\"Close\"]]\n",
    "\n",
    "# Use the pct_change function to generate  returns from close prices\n",
    "signals_df[\"Actual Returns\"] = signals_df[\"Close\"].pct_change()\n",
    "\n",
    "# Drop all NaN values from the DataFrame\n",
    "signals_df = signals_df.dropna()\n",
    "\n",
    "# Review the DataFrame\n",
    "display(signals_df.head())\n",
    "display(signals_df.tail())"
   ]
  },
  {
   "cell_type": "markdown",
   "id": "6f9dee54",
   "metadata": {},
   "source": [
    "### Generate trading signals using short- and long-window SMA values."
   ]
  },
  {
   "cell_type": "code",
   "execution_count": 26,
   "id": "47704fca",
   "metadata": {},
   "outputs": [
    {
     "data": {
      "text/html": [
       "<div>\n",
       "<style scoped>\n",
       "    .dataframe tbody tr th:only-of-type {\n",
       "        vertical-align: middle;\n",
       "    }\n",
       "\n",
       "    .dataframe tbody tr th {\n",
       "        vertical-align: top;\n",
       "    }\n",
       "\n",
       "    .dataframe thead th {\n",
       "        text-align: right;\n",
       "    }\n",
       "</style>\n",
       "<table border=\"1\" class=\"dataframe\">\n",
       "  <thead>\n",
       "    <tr style=\"text-align: right;\">\n",
       "      <th></th>\n",
       "      <th>Close</th>\n",
       "      <th>Actual Returns</th>\n",
       "      <th>SMA_Fast</th>\n",
       "      <th>SMA_Slow</th>\n",
       "    </tr>\n",
       "    <tr>\n",
       "      <th>Date</th>\n",
       "      <th></th>\n",
       "      <th></th>\n",
       "      <th></th>\n",
       "      <th></th>\n",
       "    </tr>\n",
       "  </thead>\n",
       "  <tbody>\n",
       "    <tr>\n",
       "      <th>2016-05-25</th>\n",
       "      <td>43.916000</td>\n",
       "      <td>0.007664</td>\n",
       "      <td>43.6995</td>\n",
       "      <td>42.36676</td>\n",
       "    </tr>\n",
       "    <tr>\n",
       "      <th>2016-05-26</th>\n",
       "      <td>45.023998</td>\n",
       "      <td>0.025230</td>\n",
       "      <td>43.9415</td>\n",
       "      <td>42.37018</td>\n",
       "    </tr>\n",
       "    <tr>\n",
       "      <th>2016-05-27</th>\n",
       "      <td>44.608002</td>\n",
       "      <td>-0.009239</td>\n",
       "      <td>44.2825</td>\n",
       "      <td>42.36940</td>\n",
       "    </tr>\n",
       "    <tr>\n",
       "      <th>2016-05-31</th>\n",
       "      <td>44.646000</td>\n",
       "      <td>0.000852</td>\n",
       "      <td>44.5485</td>\n",
       "      <td>42.37778</td>\n",
       "    </tr>\n",
       "    <tr>\n",
       "      <th>2016-06-01</th>\n",
       "      <td>43.911999</td>\n",
       "      <td>-0.016440</td>\n",
       "      <td>44.5475</td>\n",
       "      <td>42.38560</td>\n",
       "    </tr>\n",
       "  </tbody>\n",
       "</table>\n",
       "</div>"
      ],
      "text/plain": [
       "                Close  Actual Returns  SMA_Fast  SMA_Slow\n",
       "Date                                                     \n",
       "2016-05-25  43.916000        0.007664   43.6995  42.36676\n",
       "2016-05-26  45.023998        0.025230   43.9415  42.37018\n",
       "2016-05-27  44.608002       -0.009239   44.2825  42.36940\n",
       "2016-05-31  44.646000        0.000852   44.5485  42.37778\n",
       "2016-06-01  43.911999       -0.016440   44.5475  42.38560"
      ]
     },
     "metadata": {},
     "output_type": "display_data"
    },
    {
     "data": {
      "text/html": [
       "<div>\n",
       "<style scoped>\n",
       "    .dataframe tbody tr th:only-of-type {\n",
       "        vertical-align: middle;\n",
       "    }\n",
       "\n",
       "    .dataframe tbody tr th {\n",
       "        vertical-align: top;\n",
       "    }\n",
       "\n",
       "    .dataframe thead th {\n",
       "        text-align: right;\n",
       "    }\n",
       "</style>\n",
       "<table border=\"1\" class=\"dataframe\">\n",
       "  <thead>\n",
       "    <tr style=\"text-align: right;\">\n",
       "      <th></th>\n",
       "      <th>Close</th>\n",
       "      <th>Actual Returns</th>\n",
       "      <th>SMA_Fast</th>\n",
       "      <th>SMA_Slow</th>\n",
       "    </tr>\n",
       "    <tr>\n",
       "      <th>Date</th>\n",
       "      <th></th>\n",
       "      <th></th>\n",
       "      <th></th>\n",
       "      <th></th>\n",
       "    </tr>\n",
       "  </thead>\n",
       "  <tbody>\n",
       "    <tr>\n",
       "      <th>2021-12-30</th>\n",
       "      <td>1070.339966</td>\n",
       "      <td>-0.014592</td>\n",
       "      <td>1084.734955</td>\n",
       "      <td>904.285696</td>\n",
       "    </tr>\n",
       "    <tr>\n",
       "      <th>2021-12-31</th>\n",
       "      <td>1056.780029</td>\n",
       "      <td>-0.012669</td>\n",
       "      <td>1075.444977</td>\n",
       "      <td>907.753597</td>\n",
       "    </tr>\n",
       "    <tr>\n",
       "      <th>2022-01-03</th>\n",
       "      <td>1199.780029</td>\n",
       "      <td>0.135317</td>\n",
       "      <td>1103.272491</td>\n",
       "      <td>912.673197</td>\n",
       "    </tr>\n",
       "    <tr>\n",
       "      <th>2022-01-04</th>\n",
       "      <td>1149.589966</td>\n",
       "      <td>-0.041833</td>\n",
       "      <td>1119.122498</td>\n",
       "      <td>916.946597</td>\n",
       "    </tr>\n",
       "    <tr>\n",
       "      <th>2022-01-05</th>\n",
       "      <td>1088.119995</td>\n",
       "      <td>-0.053471</td>\n",
       "      <td>1123.567505</td>\n",
       "      <td>920.656097</td>\n",
       "    </tr>\n",
       "  </tbody>\n",
       "</table>\n",
       "</div>"
      ],
      "text/plain": [
       "                  Close  Actual Returns     SMA_Fast    SMA_Slow\n",
       "Date                                                            \n",
       "2021-12-30  1070.339966       -0.014592  1084.734955  904.285696\n",
       "2021-12-31  1056.780029       -0.012669  1075.444977  907.753597\n",
       "2022-01-03  1199.780029        0.135317  1103.272491  912.673197\n",
       "2022-01-04  1149.589966       -0.041833  1119.122498  916.946597\n",
       "2022-01-05  1088.119995       -0.053471  1123.567505  920.656097"
      ]
     },
     "metadata": {},
     "output_type": "display_data"
    }
   ],
   "source": [
    "# Set the short window and long window\n",
    "short_window = 4\n",
    "long_window = 100\n",
    "\n",
    "# Generate the fast and slow simple moving averages (4 and 100 days, respectively)\n",
    "signals_df['SMA_Fast'] = signals_df['Close'].rolling(window=short_window).mean()\n",
    "signals_df['SMA_Slow'] = signals_df['Close'].rolling(window=long_window).mean()\n",
    "\n",
    "signals_df = signals_df.dropna()\n",
    "\n",
    "# Review the DataFrame\n",
    "display(signals_df.head())\n",
    "display(signals_df.tail())"
   ]
  },
  {
   "cell_type": "markdown",
   "id": "e684b3d0",
   "metadata": {},
   "source": [
    " Below +1 is used as 'Buy' signal whereas -1 as 'Sell' signal."
   ]
  },
  {
   "cell_type": "code",
   "execution_count": 27,
   "id": "d8dd59c6",
   "metadata": {},
   "outputs": [
    {
     "data": {
      "text/html": [
       "<div>\n",
       "<style scoped>\n",
       "    .dataframe tbody tr th:only-of-type {\n",
       "        vertical-align: middle;\n",
       "    }\n",
       "\n",
       "    .dataframe tbody tr th {\n",
       "        vertical-align: top;\n",
       "    }\n",
       "\n",
       "    .dataframe thead th {\n",
       "        text-align: right;\n",
       "    }\n",
       "</style>\n",
       "<table border=\"1\" class=\"dataframe\">\n",
       "  <thead>\n",
       "    <tr style=\"text-align: right;\">\n",
       "      <th></th>\n",
       "      <th>Close</th>\n",
       "      <th>Actual Returns</th>\n",
       "      <th>SMA_Fast</th>\n",
       "      <th>SMA_Slow</th>\n",
       "      <th>Signal</th>\n",
       "    </tr>\n",
       "    <tr>\n",
       "      <th>Date</th>\n",
       "      <th></th>\n",
       "      <th></th>\n",
       "      <th></th>\n",
       "      <th></th>\n",
       "      <th></th>\n",
       "    </tr>\n",
       "  </thead>\n",
       "  <tbody>\n",
       "    <tr>\n",
       "      <th>2016-05-25</th>\n",
       "      <td>43.916000</td>\n",
       "      <td>0.007664</td>\n",
       "      <td>43.6995</td>\n",
       "      <td>42.36676</td>\n",
       "      <td>1.0</td>\n",
       "    </tr>\n",
       "    <tr>\n",
       "      <th>2016-05-26</th>\n",
       "      <td>45.023998</td>\n",
       "      <td>0.025230</td>\n",
       "      <td>43.9415</td>\n",
       "      <td>42.37018</td>\n",
       "      <td>1.0</td>\n",
       "    </tr>\n",
       "    <tr>\n",
       "      <th>2016-05-27</th>\n",
       "      <td>44.608002</td>\n",
       "      <td>-0.009239</td>\n",
       "      <td>44.2825</td>\n",
       "      <td>42.36940</td>\n",
       "      <td>-1.0</td>\n",
       "    </tr>\n",
       "    <tr>\n",
       "      <th>2016-05-31</th>\n",
       "      <td>44.646000</td>\n",
       "      <td>0.000852</td>\n",
       "      <td>44.5485</td>\n",
       "      <td>42.37778</td>\n",
       "      <td>1.0</td>\n",
       "    </tr>\n",
       "    <tr>\n",
       "      <th>2016-06-01</th>\n",
       "      <td>43.911999</td>\n",
       "      <td>-0.016440</td>\n",
       "      <td>44.5475</td>\n",
       "      <td>42.38560</td>\n",
       "      <td>-1.0</td>\n",
       "    </tr>\n",
       "  </tbody>\n",
       "</table>\n",
       "</div>"
      ],
      "text/plain": [
       "                Close  Actual Returns  SMA_Fast  SMA_Slow  Signal\n",
       "Date                                                             \n",
       "2016-05-25  43.916000        0.007664   43.6995  42.36676     1.0\n",
       "2016-05-26  45.023998        0.025230   43.9415  42.37018     1.0\n",
       "2016-05-27  44.608002       -0.009239   44.2825  42.36940    -1.0\n",
       "2016-05-31  44.646000        0.000852   44.5485  42.37778     1.0\n",
       "2016-06-01  43.911999       -0.016440   44.5475  42.38560    -1.0"
      ]
     },
     "metadata": {},
     "output_type": "display_data"
    },
    {
     "data": {
      "text/html": [
       "<div>\n",
       "<style scoped>\n",
       "    .dataframe tbody tr th:only-of-type {\n",
       "        vertical-align: middle;\n",
       "    }\n",
       "\n",
       "    .dataframe tbody tr th {\n",
       "        vertical-align: top;\n",
       "    }\n",
       "\n",
       "    .dataframe thead th {\n",
       "        text-align: right;\n",
       "    }\n",
       "</style>\n",
       "<table border=\"1\" class=\"dataframe\">\n",
       "  <thead>\n",
       "    <tr style=\"text-align: right;\">\n",
       "      <th></th>\n",
       "      <th>Close</th>\n",
       "      <th>Actual Returns</th>\n",
       "      <th>SMA_Fast</th>\n",
       "      <th>SMA_Slow</th>\n",
       "      <th>Signal</th>\n",
       "    </tr>\n",
       "    <tr>\n",
       "      <th>Date</th>\n",
       "      <th></th>\n",
       "      <th></th>\n",
       "      <th></th>\n",
       "      <th></th>\n",
       "      <th></th>\n",
       "    </tr>\n",
       "  </thead>\n",
       "  <tbody>\n",
       "    <tr>\n",
       "      <th>2021-12-30</th>\n",
       "      <td>1070.339966</td>\n",
       "      <td>-0.014592</td>\n",
       "      <td>1084.734955</td>\n",
       "      <td>904.285696</td>\n",
       "      <td>-1.0</td>\n",
       "    </tr>\n",
       "    <tr>\n",
       "      <th>2021-12-31</th>\n",
       "      <td>1056.780029</td>\n",
       "      <td>-0.012669</td>\n",
       "      <td>1075.444977</td>\n",
       "      <td>907.753597</td>\n",
       "      <td>-1.0</td>\n",
       "    </tr>\n",
       "    <tr>\n",
       "      <th>2022-01-03</th>\n",
       "      <td>1199.780029</td>\n",
       "      <td>0.135317</td>\n",
       "      <td>1103.272491</td>\n",
       "      <td>912.673197</td>\n",
       "      <td>1.0</td>\n",
       "    </tr>\n",
       "    <tr>\n",
       "      <th>2022-01-04</th>\n",
       "      <td>1149.589966</td>\n",
       "      <td>-0.041833</td>\n",
       "      <td>1119.122498</td>\n",
       "      <td>916.946597</td>\n",
       "      <td>-1.0</td>\n",
       "    </tr>\n",
       "    <tr>\n",
       "      <th>2022-01-05</th>\n",
       "      <td>1088.119995</td>\n",
       "      <td>-0.053471</td>\n",
       "      <td>1123.567505</td>\n",
       "      <td>920.656097</td>\n",
       "      <td>-1.0</td>\n",
       "    </tr>\n",
       "  </tbody>\n",
       "</table>\n",
       "</div>"
      ],
      "text/plain": [
       "                  Close  Actual Returns     SMA_Fast    SMA_Slow  Signal\n",
       "Date                                                                    \n",
       "2021-12-30  1070.339966       -0.014592  1084.734955  904.285696    -1.0\n",
       "2021-12-31  1056.780029       -0.012669  1075.444977  907.753597    -1.0\n",
       "2022-01-03  1199.780029        0.135317  1103.272491  912.673197     1.0\n",
       "2022-01-04  1149.589966       -0.041833  1119.122498  916.946597    -1.0\n",
       "2022-01-05  1088.119995       -0.053471  1123.567505  920.656097    -1.0"
      ]
     },
     "metadata": {},
     "output_type": "display_data"
    }
   ],
   "source": [
    "# Initialize the new Signal column\n",
    "signals_df['Signal'] = 0.0\n",
    "\n",
    "# When Actual Returns are greater than or equal to 0, generate signal to buy stock long\n",
    "signals_df.loc[(signals_df['Actual Returns'] >= 0), 'Signal'] = 1\n",
    "\n",
    "# When Actual Returns are less than 0, generate signal to sell stock short\n",
    "signals_df.loc[(signals_df['Actual Returns'] < 0), 'Signal'] = -1\n",
    "\n",
    "# Review the DataFrame\n",
    "display(signals_df.head())\n",
    "display(signals_df.tail())"
   ]
  },
  {
   "cell_type": "code",
   "execution_count": 29,
   "id": "0c434c0e",
   "metadata": {},
   "outputs": [
    {
     "data": {
      "text/plain": [
       " 1.0    741\n",
       "-1.0    674\n",
       "Name: Signal, dtype: int64"
      ]
     },
     "execution_count": 29,
     "metadata": {},
     "output_type": "execute_result"
    }
   ],
   "source": [
    "# Count of buy and sell signals\n",
    "\n",
    "signals_df['Signal'].value_counts()"
   ]
  },
  {
   "cell_type": "code",
   "execution_count": 30,
   "id": "ec3521b2",
   "metadata": {},
   "outputs": [
    {
     "data": {
      "text/html": [
       "<div>\n",
       "<style scoped>\n",
       "    .dataframe tbody tr th:only-of-type {\n",
       "        vertical-align: middle;\n",
       "    }\n",
       "\n",
       "    .dataframe tbody tr th {\n",
       "        vertical-align: top;\n",
       "    }\n",
       "\n",
       "    .dataframe thead th {\n",
       "        text-align: right;\n",
       "    }\n",
       "</style>\n",
       "<table border=\"1\" class=\"dataframe\">\n",
       "  <thead>\n",
       "    <tr style=\"text-align: right;\">\n",
       "      <th></th>\n",
       "      <th>Close</th>\n",
       "      <th>Actual Returns</th>\n",
       "      <th>SMA_Fast</th>\n",
       "      <th>SMA_Slow</th>\n",
       "      <th>Signal</th>\n",
       "      <th>Strategy Returns</th>\n",
       "    </tr>\n",
       "    <tr>\n",
       "      <th>Date</th>\n",
       "      <th></th>\n",
       "      <th></th>\n",
       "      <th></th>\n",
       "      <th></th>\n",
       "      <th></th>\n",
       "      <th></th>\n",
       "    </tr>\n",
       "  </thead>\n",
       "  <tbody>\n",
       "    <tr>\n",
       "      <th>2016-05-25</th>\n",
       "      <td>43.916000</td>\n",
       "      <td>0.007664</td>\n",
       "      <td>43.6995</td>\n",
       "      <td>42.36676</td>\n",
       "      <td>1.0</td>\n",
       "      <td>NaN</td>\n",
       "    </tr>\n",
       "    <tr>\n",
       "      <th>2016-05-26</th>\n",
       "      <td>45.023998</td>\n",
       "      <td>0.025230</td>\n",
       "      <td>43.9415</td>\n",
       "      <td>42.37018</td>\n",
       "      <td>1.0</td>\n",
       "      <td>0.025230</td>\n",
       "    </tr>\n",
       "    <tr>\n",
       "      <th>2016-05-27</th>\n",
       "      <td>44.608002</td>\n",
       "      <td>-0.009239</td>\n",
       "      <td>44.2825</td>\n",
       "      <td>42.36940</td>\n",
       "      <td>-1.0</td>\n",
       "      <td>-0.009239</td>\n",
       "    </tr>\n",
       "    <tr>\n",
       "      <th>2016-05-31</th>\n",
       "      <td>44.646000</td>\n",
       "      <td>0.000852</td>\n",
       "      <td>44.5485</td>\n",
       "      <td>42.37778</td>\n",
       "      <td>1.0</td>\n",
       "      <td>-0.000852</td>\n",
       "    </tr>\n",
       "    <tr>\n",
       "      <th>2016-06-01</th>\n",
       "      <td>43.911999</td>\n",
       "      <td>-0.016440</td>\n",
       "      <td>44.5475</td>\n",
       "      <td>42.38560</td>\n",
       "      <td>-1.0</td>\n",
       "      <td>-0.016440</td>\n",
       "    </tr>\n",
       "  </tbody>\n",
       "</table>\n",
       "</div>"
      ],
      "text/plain": [
       "                Close  Actual Returns  SMA_Fast  SMA_Slow  Signal  \\\n",
       "Date                                                                \n",
       "2016-05-25  43.916000        0.007664   43.6995  42.36676     1.0   \n",
       "2016-05-26  45.023998        0.025230   43.9415  42.37018     1.0   \n",
       "2016-05-27  44.608002       -0.009239   44.2825  42.36940    -1.0   \n",
       "2016-05-31  44.646000        0.000852   44.5485  42.37778     1.0   \n",
       "2016-06-01  43.911999       -0.016440   44.5475  42.38560    -1.0   \n",
       "\n",
       "            Strategy Returns  \n",
       "Date                          \n",
       "2016-05-25               NaN  \n",
       "2016-05-26          0.025230  \n",
       "2016-05-27         -0.009239  \n",
       "2016-05-31         -0.000852  \n",
       "2016-06-01         -0.016440  "
      ]
     },
     "metadata": {},
     "output_type": "display_data"
    },
    {
     "data": {
      "text/html": [
       "<div>\n",
       "<style scoped>\n",
       "    .dataframe tbody tr th:only-of-type {\n",
       "        vertical-align: middle;\n",
       "    }\n",
       "\n",
       "    .dataframe tbody tr th {\n",
       "        vertical-align: top;\n",
       "    }\n",
       "\n",
       "    .dataframe thead th {\n",
       "        text-align: right;\n",
       "    }\n",
       "</style>\n",
       "<table border=\"1\" class=\"dataframe\">\n",
       "  <thead>\n",
       "    <tr style=\"text-align: right;\">\n",
       "      <th></th>\n",
       "      <th>Close</th>\n",
       "      <th>Actual Returns</th>\n",
       "      <th>SMA_Fast</th>\n",
       "      <th>SMA_Slow</th>\n",
       "      <th>Signal</th>\n",
       "      <th>Strategy Returns</th>\n",
       "    </tr>\n",
       "    <tr>\n",
       "      <th>Date</th>\n",
       "      <th></th>\n",
       "      <th></th>\n",
       "      <th></th>\n",
       "      <th></th>\n",
       "      <th></th>\n",
       "      <th></th>\n",
       "    </tr>\n",
       "  </thead>\n",
       "  <tbody>\n",
       "    <tr>\n",
       "      <th>2021-12-30</th>\n",
       "      <td>1070.339966</td>\n",
       "      <td>-0.014592</td>\n",
       "      <td>1084.734955</td>\n",
       "      <td>904.285696</td>\n",
       "      <td>-1.0</td>\n",
       "      <td>0.014592</td>\n",
       "    </tr>\n",
       "    <tr>\n",
       "      <th>2021-12-31</th>\n",
       "      <td>1056.780029</td>\n",
       "      <td>-0.012669</td>\n",
       "      <td>1075.444977</td>\n",
       "      <td>907.753597</td>\n",
       "      <td>-1.0</td>\n",
       "      <td>0.012669</td>\n",
       "    </tr>\n",
       "    <tr>\n",
       "      <th>2022-01-03</th>\n",
       "      <td>1199.780029</td>\n",
       "      <td>0.135317</td>\n",
       "      <td>1103.272491</td>\n",
       "      <td>912.673197</td>\n",
       "      <td>1.0</td>\n",
       "      <td>-0.135317</td>\n",
       "    </tr>\n",
       "    <tr>\n",
       "      <th>2022-01-04</th>\n",
       "      <td>1149.589966</td>\n",
       "      <td>-0.041833</td>\n",
       "      <td>1119.122498</td>\n",
       "      <td>916.946597</td>\n",
       "      <td>-1.0</td>\n",
       "      <td>-0.041833</td>\n",
       "    </tr>\n",
       "    <tr>\n",
       "      <th>2022-01-05</th>\n",
       "      <td>1088.119995</td>\n",
       "      <td>-0.053471</td>\n",
       "      <td>1123.567505</td>\n",
       "      <td>920.656097</td>\n",
       "      <td>-1.0</td>\n",
       "      <td>0.053471</td>\n",
       "    </tr>\n",
       "  </tbody>\n",
       "</table>\n",
       "</div>"
      ],
      "text/plain": [
       "                  Close  Actual Returns     SMA_Fast    SMA_Slow  Signal  \\\n",
       "Date                                                                       \n",
       "2021-12-30  1070.339966       -0.014592  1084.734955  904.285696    -1.0   \n",
       "2021-12-31  1056.780029       -0.012669  1075.444977  907.753597    -1.0   \n",
       "2022-01-03  1199.780029        0.135317  1103.272491  912.673197     1.0   \n",
       "2022-01-04  1149.589966       -0.041833  1119.122498  916.946597    -1.0   \n",
       "2022-01-05  1088.119995       -0.053471  1123.567505  920.656097    -1.0   \n",
       "\n",
       "            Strategy Returns  \n",
       "Date                          \n",
       "2021-12-30          0.014592  \n",
       "2021-12-31          0.012669  \n",
       "2022-01-03         -0.135317  \n",
       "2022-01-04         -0.041833  \n",
       "2022-01-05          0.053471  "
      ]
     },
     "metadata": {},
     "output_type": "display_data"
    }
   ],
   "source": [
    "# Calculate the strategy returns and add them to the signals_df DataFrame\n",
    "signals_df['Strategy Returns'] = signals_df['Actual Returns'] * signals_df['Signal'].shift()\n",
    "\n",
    "# Review the DataFrame\n",
    "display(signals_df.head())\n",
    "display(signals_df.tail())"
   ]
  },
  {
   "cell_type": "code",
   "execution_count": 31,
   "id": "106eb629",
   "metadata": {},
   "outputs": [
    {
     "data": {
      "text/plain": [
       "<AxesSubplot:xlabel='Date'>"
      ]
     },
     "execution_count": 31,
     "metadata": {},
     "output_type": "execute_result"
    },
    {
     "data": {
      "image/png": "[encoded data removed]",
      "text/plain": [
       "<Figure size 432x288 with 1 Axes>"
      ]
     },
     "metadata": {
      "needs_background": "light"
     },
     "output_type": "display_data"
    }
   ],
   "source": [
    "# Plot Strategy Returns to examine performance\n",
    "\n",
    "(1 + signals_df['Strategy Returns']).cumprod().plot()"
   ]
  },
  {
   "cell_type": "markdown",
   "id": "113aaad5",
   "metadata": {},
   "source": [
    "### Split the data into training and testing datasets."
   ]
  },
  {
   "cell_type": "code",
   "execution_count": 32,
   "id": "e684e22b",
   "metadata": {},
   "outputs": [
    {
     "data": {
      "text/html": [
       "<div>\n",
       "<style scoped>\n",
       "    .dataframe tbody tr th:only-of-type {\n",
       "        vertical-align: middle;\n",
       "    }\n",
       "\n",
       "    .dataframe tbody tr th {\n",
       "        vertical-align: top;\n",
       "    }\n",
       "\n",
       "    .dataframe thead th {\n",
       "        text-align: right;\n",
       "    }\n",
       "</style>\n",
       "<table border=\"1\" class=\"dataframe\">\n",
       "  <thead>\n",
       "    <tr style=\"text-align: right;\">\n",
       "      <th></th>\n",
       "      <th>SMA_Fast</th>\n",
       "      <th>SMA_Slow</th>\n",
       "    </tr>\n",
       "    <tr>\n",
       "      <th>Date</th>\n",
       "      <th></th>\n",
       "      <th></th>\n",
       "    </tr>\n",
       "  </thead>\n",
       "  <tbody>\n",
       "    <tr>\n",
       "      <th>2016-05-26</th>\n",
       "      <td>43.6995</td>\n",
       "      <td>42.36676</td>\n",
       "    </tr>\n",
       "    <tr>\n",
       "      <th>2016-05-27</th>\n",
       "      <td>43.9415</td>\n",
       "      <td>42.37018</td>\n",
       "    </tr>\n",
       "    <tr>\n",
       "      <th>2016-05-31</th>\n",
       "      <td>44.2825</td>\n",
       "      <td>42.36940</td>\n",
       "    </tr>\n",
       "    <tr>\n",
       "      <th>2016-06-01</th>\n",
       "      <td>44.5485</td>\n",
       "      <td>42.37778</td>\n",
       "    </tr>\n",
       "    <tr>\n",
       "      <th>2016-06-02</th>\n",
       "      <td>44.5475</td>\n",
       "      <td>42.38560</td>\n",
       "    </tr>\n",
       "  </tbody>\n",
       "</table>\n",
       "</div>"
      ],
      "text/plain": [
       "            SMA_Fast  SMA_Slow\n",
       "Date                          \n",
       "2016-05-26   43.6995  42.36676\n",
       "2016-05-27   43.9415  42.37018\n",
       "2016-05-31   44.2825  42.36940\n",
       "2016-06-01   44.5485  42.37778\n",
       "2016-06-02   44.5475  42.38560"
      ]
     },
     "execution_count": 32,
     "metadata": {},
     "output_type": "execute_result"
    }
   ],
   "source": [
    "# Assign a copy of the sma_fast and sma_slow columns to a features DataFrame called X\n",
    "X = signals_df[['SMA_Fast', 'SMA_Slow']].shift().dropna()\n",
    "\n",
    "# Review the DataFrame\n",
    "X.head()"
   ]
  },
  {
   "cell_type": "code",
   "execution_count": 35,
   "id": "b42cc029",
   "metadata": {},
   "outputs": [
    {
     "data": {
      "text/plain": [
       "Date\n",
       "2016-05-25    1.0\n",
       "2016-05-26    1.0\n",
       "2016-05-27   -1.0\n",
       "2016-05-31    1.0\n",
       "2016-06-01   -1.0\n",
       "             ... \n",
       "2021-12-30   -1.0\n",
       "2021-12-31   -1.0\n",
       "2022-01-03    1.0\n",
       "2022-01-04   -1.0\n",
       "2022-01-05   -1.0\n",
       "Name: Signal, Length: 1415, dtype: float64"
      ]
     },
     "execution_count": 35,
     "metadata": {},
     "output_type": "execute_result"
    }
   ],
   "source": [
    "# Create the target set selecting the Signal column and assiging it to y\n",
    "\n",
    "y = signals_df['Signal']\n",
    "y"
   ]
  },
  {
   "cell_type": "code",
   "execution_count": 33,
   "id": "5d16ab17",
   "metadata": {},
   "outputs": [
    {
     "data": {
      "text/plain": [
       " 1.0    741\n",
       "-1.0    674\n",
       "Name: Signal, dtype: int64"
      ]
     },
     "execution_count": 33,
     "metadata": {},
     "output_type": "execute_result"
    }
   ],
   "source": [
    "# Review the value counts\n",
    "y.value_counts()"
   ]
  },
  {
   "cell_type": "code",
   "execution_count": 36,
   "id": "767a4081",
   "metadata": {},
   "outputs": [
    {
     "name": "stdout",
     "output_type": "stream",
     "text": [
      "2016-05-26 00:00:00\n"
     ]
    }
   ],
   "source": [
    "# Select the start of the training period\n",
    "training_begin = X.index.min()\n",
    "\n",
    "# Display the training begin date\n",
    "print(training_begin)"
   ]
  },
  {
   "cell_type": "code",
   "execution_count": 40,
   "id": "6a0d51d7",
   "metadata": {},
   "outputs": [
    {
     "name": "stdout",
     "output_type": "stream",
     "text": [
      "2016-08-26 00:00:00\n"
     ]
    }
   ],
   "source": [
    "# Select the ending period for the training data with an offset of 3 months\n",
    "\n",
    "training_end = X.index.min() + DateOffset(months=3)\n",
    "\n",
    "# Display the training end date\n",
    "\n",
    "print(training_end)"
   ]
  },
  {
   "cell_type": "code",
   "execution_count": 41,
   "id": "3ac29ed8",
   "metadata": {},
   "outputs": [
    {
     "data": {
      "text/html": [
       "<div>\n",
       "<style scoped>\n",
       "    .dataframe tbody tr th:only-of-type {\n",
       "        vertical-align: middle;\n",
       "    }\n",
       "\n",
       "    .dataframe tbody tr th {\n",
       "        vertical-align: top;\n",
       "    }\n",
       "\n",
       "    .dataframe thead th {\n",
       "        text-align: right;\n",
       "    }\n",
       "</style>\n",
       "<table border=\"1\" class=\"dataframe\">\n",
       "  <thead>\n",
       "    <tr style=\"text-align: right;\">\n",
       "      <th></th>\n",
       "      <th>SMA_Fast</th>\n",
       "      <th>SMA_Slow</th>\n",
       "    </tr>\n",
       "    <tr>\n",
       "      <th>Date</th>\n",
       "      <th></th>\n",
       "      <th></th>\n",
       "    </tr>\n",
       "  </thead>\n",
       "  <tbody>\n",
       "    <tr>\n",
       "      <th>2016-05-26</th>\n",
       "      <td>43.6995</td>\n",
       "      <td>42.36676</td>\n",
       "    </tr>\n",
       "    <tr>\n",
       "      <th>2016-05-27</th>\n",
       "      <td>43.9415</td>\n",
       "      <td>42.37018</td>\n",
       "    </tr>\n",
       "    <tr>\n",
       "      <th>2016-05-31</th>\n",
       "      <td>44.2825</td>\n",
       "      <td>42.36940</td>\n",
       "    </tr>\n",
       "    <tr>\n",
       "      <th>2016-06-01</th>\n",
       "      <td>44.5485</td>\n",
       "      <td>42.37778</td>\n",
       "    </tr>\n",
       "    <tr>\n",
       "      <th>2016-06-02</th>\n",
       "      <td>44.5475</td>\n",
       "      <td>42.38560</td>\n",
       "    </tr>\n",
       "  </tbody>\n",
       "</table>\n",
       "</div>"
      ],
      "text/plain": [
       "            SMA_Fast  SMA_Slow\n",
       "Date                          \n",
       "2016-05-26   43.6995  42.36676\n",
       "2016-05-27   43.9415  42.37018\n",
       "2016-05-31   44.2825  42.36940\n",
       "2016-06-01   44.5485  42.37778\n",
       "2016-06-02   44.5475  42.38560"
      ]
     },
     "execution_count": 41,
     "metadata": {},
     "output_type": "execute_result"
    }
   ],
   "source": [
    "# Generate the X_train and y_train DataFrames\n",
    "X_train = X.loc[training_begin:training_end]\n",
    "y_train = y.loc[training_begin:training_end]\n",
    "\n",
    "# Review the X_train DataFrame\n",
    "X_train.head()"
   ]
  },
  {
   "cell_type": "code",
   "execution_count": 42,
   "id": "0399321e",
   "metadata": {},
   "outputs": [
    {
     "data": {
      "text/html": [
       "<div>\n",
       "<style scoped>\n",
       "    .dataframe tbody tr th:only-of-type {\n",
       "        vertical-align: middle;\n",
       "    }\n",
       "\n",
       "    .dataframe tbody tr th {\n",
       "        vertical-align: top;\n",
       "    }\n",
       "\n",
       "    .dataframe thead th {\n",
       "        text-align: right;\n",
       "    }\n",
       "</style>\n",
       "<table border=\"1\" class=\"dataframe\">\n",
       "  <thead>\n",
       "    <tr style=\"text-align: right;\">\n",
       "      <th></th>\n",
       "      <th>SMA_Fast</th>\n",
       "      <th>SMA_Slow</th>\n",
       "    </tr>\n",
       "    <tr>\n",
       "      <th>Date</th>\n",
       "      <th></th>\n",
       "      <th></th>\n",
       "    </tr>\n",
       "  </thead>\n",
       "  <tbody>\n",
       "    <tr>\n",
       "      <th>2016-05-26</th>\n",
       "      <td>43.6995</td>\n",
       "      <td>42.36676</td>\n",
       "    </tr>\n",
       "    <tr>\n",
       "      <th>2016-05-27</th>\n",
       "      <td>43.9415</td>\n",
       "      <td>42.37018</td>\n",
       "    </tr>\n",
       "    <tr>\n",
       "      <th>2016-05-31</th>\n",
       "      <td>44.2825</td>\n",
       "      <td>42.36940</td>\n",
       "    </tr>\n",
       "    <tr>\n",
       "      <th>2016-06-01</th>\n",
       "      <td>44.5485</td>\n",
       "      <td>42.37778</td>\n",
       "    </tr>\n",
       "    <tr>\n",
       "      <th>2016-06-02</th>\n",
       "      <td>44.5475</td>\n",
       "      <td>42.38560</td>\n",
       "    </tr>\n",
       "  </tbody>\n",
       "</table>\n",
       "</div>"
      ],
      "text/plain": [
       "            SMA_Fast  SMA_Slow\n",
       "Date                          \n",
       "2016-05-26   43.6995  42.36676\n",
       "2016-05-27   43.9415  42.37018\n",
       "2016-05-31   44.2825  42.36940\n",
       "2016-06-01   44.5485  42.37778\n",
       "2016-06-02   44.5475  42.38560"
      ]
     },
     "execution_count": 42,
     "metadata": {},
     "output_type": "execute_result"
    }
   ],
   "source": [
    "# Generate the X_test and y_test DataFrames\n",
    "X_test = X.loc[training_end+DateOffset(hours=1):]\n",
    "y_test = y.loc[training_end+DateOffset(hours=1):]\n",
    "\n",
    "# Review the X_test DataFrame\n",
    "X_train.head()"
   ]
  },
  {
   "cell_type": "code",
   "execution_count": 43,
   "id": "c0b3729f",
   "metadata": {},
   "outputs": [],
   "source": [
    "# Scale the features DataFrames\n",
    "\n",
    "# Create a StandardScaler instance\n",
    "scaler = StandardScaler()\n",
    "\n",
    "# Apply the scaler model to fit the X-train data\n",
    "X_scaler = scaler.fit(X_train)\n",
    "\n",
    "# Transform the X_train and X_test DataFrames using the X_scaler\n",
    "X_train_scaled = X_scaler.transform(X_train)\n",
    "X_test_scaled = X_scaler.transform(X_test)"
   ]
  },
  {
   "cell_type": "markdown",
   "id": "609b757e",
   "metadata": {},
   "source": [
    "### Use the SVC classifier model from SKLearn's support vector machine (SVM) learning method to fit the training data and make predictions"
   ]
  },
  {
   "cell_type": "code",
   "execution_count": 44,
   "id": "76a60e5a",
   "metadata": {},
   "outputs": [
    {
     "data": {
      "text/plain": [
       "array([-1., -1., -1.,  1.,  1.,  1.,  1.,  1.,  1.,  1.])"
      ]
     },
     "execution_count": 44,
     "metadata": {},
     "output_type": "execute_result"
    }
   ],
   "source": [
    "# From SVM, instantiate SVC classifier model instance\n",
    "svm_model = svm.SVC()\n",
    " \n",
    "# Fit the model to the data using the training data\n",
    "svm_model = svm_model.fit(X_train_scaled, y_train)\n",
    " \n",
    "# Use the testing data to make the model predictions\n",
    "svm_pred = svm_model.predict(X_test_scaled)\n",
    "\n",
    "# Review the model's predicted values\n",
    "svm_pred[:10]"
   ]
  },
  {
   "cell_type": "markdown",
   "id": "7d503b1d",
   "metadata": {},
   "source": [
    "### Review the classification report associated with the SVC model predictions."
   ]
  },
  {
   "cell_type": "code",
   "execution_count": 46,
   "id": "df25de6c",
   "metadata": {},
   "outputs": [
    {
     "name": "stdout",
     "output_type": "stream",
     "text": [
      "              precision    recall  f1-score   support\n",
      "\n",
      "        -1.0       0.46      0.07      0.12       639\n",
      "         1.0       0.53      0.93      0.67       710\n",
      "\n",
      "    accuracy                           0.52      1349\n",
      "   macro avg       0.49      0.50      0.40      1349\n",
      "weighted avg       0.50      0.52      0.41      1349\n",
      "\n"
     ]
    }
   ],
   "source": [
    "# Use a classification report to evaluate the model using the predictions and testing data\n",
    "\n",
    "svm_testing_report = classification_report(y_test, svm_pred)\n",
    "\n",
    "# Print the classification report\n",
    "\n",
    "print(svm_testing_report)"
   ]
  },
  {
   "cell_type": "markdown",
   "id": "f7f6b94d",
   "metadata": {},
   "source": [
    "### Create a predictions DataFrame that contains columns for “Predicted” values, “Actual Returns”, and “Strategy Returns"
   ]
  },
  {
   "cell_type": "code",
   "execution_count": 50,
   "id": "e92a5f35",
   "metadata": {},
   "outputs": [
    {
     "data": {
      "text/html": [
       "<div>\n",
       "<style scoped>\n",
       "    .dataframe tbody tr th:only-of-type {\n",
       "        vertical-align: middle;\n",
       "    }\n",
       "\n",
       "    .dataframe tbody tr th {\n",
       "        vertical-align: top;\n",
       "    }\n",
       "\n",
       "    .dataframe thead th {\n",
       "        text-align: right;\n",
       "    }\n",
       "</style>\n",
       "<table border=\"1\" class=\"dataframe\">\n",
       "  <thead>\n",
       "    <tr style=\"text-align: right;\">\n",
       "      <th></th>\n",
       "      <th>Predicted</th>\n",
       "      <th>Actual Returns</th>\n",
       "      <th>Strategy Returns</th>\n",
       "    </tr>\n",
       "    <tr>\n",
       "      <th>Date</th>\n",
       "      <th></th>\n",
       "      <th></th>\n",
       "      <th></th>\n",
       "    </tr>\n",
       "  </thead>\n",
       "  <tbody>\n",
       "    <tr>\n",
       "      <th>2016-08-29</th>\n",
       "      <td>-1.0</td>\n",
       "      <td>-0.021774</td>\n",
       "      <td>0.021774</td>\n",
       "    </tr>\n",
       "    <tr>\n",
       "      <th>2016-08-30</th>\n",
       "      <td>-1.0</td>\n",
       "      <td>-0.017937</td>\n",
       "      <td>0.017937</td>\n",
       "    </tr>\n",
       "    <tr>\n",
       "      <th>2016-08-31</th>\n",
       "      <td>-1.0</td>\n",
       "      <td>0.003170</td>\n",
       "      <td>-0.003170</td>\n",
       "    </tr>\n",
       "    <tr>\n",
       "      <th>2016-09-01</th>\n",
       "      <td>1.0</td>\n",
       "      <td>-0.053016</td>\n",
       "      <td>-0.053016</td>\n",
       "    </tr>\n",
       "    <tr>\n",
       "      <th>2016-09-02</th>\n",
       "      <td>1.0</td>\n",
       "      <td>-0.014893</td>\n",
       "      <td>-0.014893</td>\n",
       "    </tr>\n",
       "  </tbody>\n",
       "</table>\n",
       "</div>"
      ],
      "text/plain": [
       "            Predicted  Actual Returns  Strategy Returns\n",
       "Date                                                   \n",
       "2016-08-29       -1.0       -0.021774          0.021774\n",
       "2016-08-30       -1.0       -0.017937          0.017937\n",
       "2016-08-31       -1.0        0.003170         -0.003170\n",
       "2016-09-01        1.0       -0.053016         -0.053016\n",
       "2016-09-02        1.0       -0.014893         -0.014893"
      ]
     },
     "metadata": {},
     "output_type": "display_data"
    },
    {
     "data": {
      "text/html": [
       "<div>\n",
       "<style scoped>\n",
       "    .dataframe tbody tr th:only-of-type {\n",
       "        vertical-align: middle;\n",
       "    }\n",
       "\n",
       "    .dataframe tbody tr th {\n",
       "        vertical-align: top;\n",
       "    }\n",
       "\n",
       "    .dataframe thead th {\n",
       "        text-align: right;\n",
       "    }\n",
       "</style>\n",
       "<table border=\"1\" class=\"dataframe\">\n",
       "  <thead>\n",
       "    <tr style=\"text-align: right;\">\n",
       "      <th></th>\n",
       "      <th>Predicted</th>\n",
       "      <th>Actual Returns</th>\n",
       "      <th>Strategy Returns</th>\n",
       "    </tr>\n",
       "    <tr>\n",
       "      <th>Date</th>\n",
       "      <th></th>\n",
       "      <th></th>\n",
       "      <th></th>\n",
       "    </tr>\n",
       "  </thead>\n",
       "  <tbody>\n",
       "    <tr>\n",
       "      <th>2021-12-30</th>\n",
       "      <td>1.0</td>\n",
       "      <td>-0.014592</td>\n",
       "      <td>-0.014592</td>\n",
       "    </tr>\n",
       "    <tr>\n",
       "      <th>2021-12-31</th>\n",
       "      <td>1.0</td>\n",
       "      <td>-0.012669</td>\n",
       "      <td>-0.012669</td>\n",
       "    </tr>\n",
       "    <tr>\n",
       "      <th>2022-01-03</th>\n",
       "      <td>1.0</td>\n",
       "      <td>0.135317</td>\n",
       "      <td>0.135317</td>\n",
       "    </tr>\n",
       "    <tr>\n",
       "      <th>2022-01-04</th>\n",
       "      <td>1.0</td>\n",
       "      <td>-0.041833</td>\n",
       "      <td>-0.041833</td>\n",
       "    </tr>\n",
       "    <tr>\n",
       "      <th>2022-01-05</th>\n",
       "      <td>1.0</td>\n",
       "      <td>-0.053471</td>\n",
       "      <td>-0.053471</td>\n",
       "    </tr>\n",
       "  </tbody>\n",
       "</table>\n",
       "</div>"
      ],
      "text/plain": [
       "            Predicted  Actual Returns  Strategy Returns\n",
       "Date                                                   \n",
       "2021-12-30        1.0       -0.014592         -0.014592\n",
       "2021-12-31        1.0       -0.012669         -0.012669\n",
       "2022-01-03        1.0        0.135317          0.135317\n",
       "2022-01-04        1.0       -0.041833         -0.041833\n",
       "2022-01-05        1.0       -0.053471         -0.053471"
      ]
     },
     "metadata": {},
     "output_type": "display_data"
    }
   ],
   "source": [
    "# Create a new empty predictions DataFrame.\n",
    "predictions_df = pd.DataFrame(index=X_test.index)\n",
    "\n",
    "# Create a predictions DataFrame\n",
    "#predictions_df = # YOUR CODE HERE\n",
    "\n",
    "# Add the SVM model predictions to the DataFrame\n",
    "predictions_df['Predicted'] = svm_pred\n",
    "\n",
    "# Add the actual returns to the DataFrame\n",
    "predictions_df[\"Actual Returns\"] = signals_df[\"Actual Returns\"]\n",
    "\n",
    "# Add the strategy returns to the DataFrame\n",
    "predictions_df['Strategy Returns'] = predictions_df[\"Actual Returns\"] * svm_pred\n",
    "\n",
    "# Review the DataFrame\n",
    "display(predictions_df.head())\n",
    "display(predictions_df.tail())"
   ]
  },
  {
   "cell_type": "markdown",
   "id": "8f9473e4",
   "metadata": {},
   "source": [
    "### Create a cumulative return plot that shows the actual returns vs. the strategy returns. \n",
    "\n",
    "Save a PNG image of this plot. This will serve as a baseline against which to compare the effects of tuning the trading algorithm."
   ]
  },
  {
   "cell_type": "code",
   "execution_count": 51,
   "id": "95cbefdf",
   "metadata": {},
   "outputs": [
    {
     "data": {
      "text/plain": [
       "<AxesSubplot:xlabel='Date'>"
      ]
     },
     "execution_count": 51,
     "metadata": {},
     "output_type": "execute_result"
    },
    {
     "data": {
      "image/png": "[encoded data removed]",
      "text/plain": [
       "<Figure size 432x288 with 1 Axes>"
      ]
     },
     "metadata": {
      "needs_background": "light"
     },
     "output_type": "display_data"
    }
   ],
   "source": [
    "# Plot the actual returns versus the strategy returns\n",
    "\n",
    "(1 + predictions_df[[\"Actual Returns\", \"Strategy Returns\"]]).cumprod().plot()"
   ]
  },
  {
   "cell_type": "markdown",
   "id": "5da9cb40",
   "metadata": {},
   "source": [
    "### Evaluate a New Machine Learning Classifier"
   ]
  },
  {
   "cell_type": "code",
   "execution_count": 52,
   "id": "7610b563",
   "metadata": {},
   "outputs": [],
   "source": [
    "# Import a new classifier from SKLearn\n",
    "from sklearn.linear_model import LogisticRegression\n",
    "\n",
    "# Initiate the model instance\n",
    "logistic_regression_model = LogisticRegression()"
   ]
  },
  {
   "cell_type": "markdown",
   "id": "0d6a5cd2",
   "metadata": {},
   "source": [
    "### Fit another model with the new classifier."
   ]
  },
  {
   "cell_type": "code",
   "execution_count": 54,
   "id": "b49c74dc",
   "metadata": {},
   "outputs": [
    {
     "data": {
      "text/plain": [
       "array([-1.,  1.,  1., ..., -1., -1., -1.])"
      ]
     },
     "execution_count": 54,
     "metadata": {},
     "output_type": "execute_result"
    }
   ],
   "source": [
    "# Fit the model using the training data\n",
    "model = logistic_regression_model.fit(X_train_scaled, y_train)\n",
    "\n",
    "# Use the testing dataset to generate the predictions for the new model\n",
    "pred = logistic_regression_model.predict(X_test_scaled)\n",
    "\n",
    "# Review the model's predicted values\n",
    "pred"
   ]
  },
  {
   "cell_type": "markdown",
   "id": "d5cf4553",
   "metadata": {},
   "source": [
    "### Backtest the new model to evaluate its performance"
   ]
  },
  {
   "cell_type": "code",
   "execution_count": 56,
   "id": "9c2ae38b",
   "metadata": {},
   "outputs": [
    {
     "name": "stdout",
     "output_type": "stream",
     "text": [
      "              precision    recall  f1-score   support\n",
      "\n",
      "        -1.0       0.47      0.91      0.62       639\n",
      "         1.0       0.53      0.09      0.15       710\n",
      "\n",
      "    accuracy                           0.48      1349\n",
      "   macro avg       0.50      0.50      0.39      1349\n",
      "weighted avg       0.50      0.48      0.38      1349\n",
      "\n"
     ]
    }
   ],
   "source": [
    "# Use a classification report to evaluate the model using the predictions and testing data\n",
    "signal_predictions = classification_report(y_test, pred)\n",
    "\n",
    "\n",
    "# Print the classification report\n",
    "print(signal_predictions)"
   ]
  },
  {
   "cell_type": "code",
   "execution_count": 60,
   "id": "3680339f",
   "metadata": {},
   "outputs": [],
   "source": [
    "# Create a new empty predictions DataFrame.\n",
    "second_predictions_df = pd.DataFrame(index=X_test.index)"
   ]
  },
  {
   "cell_type": "markdown",
   "id": "b1772a8d",
   "metadata": {},
   "source": [
    "### Create a predictions DataFrame"
   ]
  },
  {
   "cell_type": "code",
   "execution_count": 60,
   "id": "c735f840",
   "metadata": {},
   "outputs": [
    {
     "data": {
      "text/html": [
       "<div>\n",
       "<style scoped>\n",
       "    .dataframe tbody tr th:only-of-type {\n",
       "        vertical-align: middle;\n",
       "    }\n",
       "\n",
       "    .dataframe tbody tr th {\n",
       "        vertical-align: top;\n",
       "    }\n",
       "\n",
       "    .dataframe thead th {\n",
       "        text-align: right;\n",
       "    }\n",
       "</style>\n",
       "<table border=\"1\" class=\"dataframe\">\n",
       "  <thead>\n",
       "    <tr style=\"text-align: right;\">\n",
       "      <th></th>\n",
       "      <th>Predicted</th>\n",
       "      <th>Actual Returns</th>\n",
       "      <th>Strategy Returns</th>\n",
       "    </tr>\n",
       "    <tr>\n",
       "      <th>Date</th>\n",
       "      <th></th>\n",
       "      <th></th>\n",
       "      <th></th>\n",
       "    </tr>\n",
       "  </thead>\n",
       "  <tbody>\n",
       "    <tr>\n",
       "      <th>2021-12-30</th>\n",
       "      <td>-1.0</td>\n",
       "      <td>-0.014592</td>\n",
       "      <td>0.014592</td>\n",
       "    </tr>\n",
       "    <tr>\n",
       "      <th>2021-12-31</th>\n",
       "      <td>-1.0</td>\n",
       "      <td>-0.012669</td>\n",
       "      <td>0.012669</td>\n",
       "    </tr>\n",
       "    <tr>\n",
       "      <th>2022-01-03</th>\n",
       "      <td>-1.0</td>\n",
       "      <td>0.135317</td>\n",
       "      <td>-0.135317</td>\n",
       "    </tr>\n",
       "    <tr>\n",
       "      <th>2022-01-04</th>\n",
       "      <td>-1.0</td>\n",
       "      <td>-0.041833</td>\n",
       "      <td>0.041833</td>\n",
       "    </tr>\n",
       "    <tr>\n",
       "      <th>2022-01-05</th>\n",
       "      <td>-1.0</td>\n",
       "      <td>-0.053471</td>\n",
       "      <td>0.053471</td>\n",
       "    </tr>\n",
       "  </tbody>\n",
       "</table>\n",
       "</div>"
      ],
      "text/plain": [
       "            Predicted  Actual Returns  Strategy Returns\n",
       "Date                                                   \n",
       "2021-12-30       -1.0       -0.014592          0.014592\n",
       "2021-12-31       -1.0       -0.012669          0.012669\n",
       "2022-01-03       -1.0        0.135317         -0.135317\n",
       "2022-01-04       -1.0       -0.041833          0.041833\n",
       "2022-01-05       -1.0       -0.053471          0.053471"
      ]
     },
     "execution_count": 60,
     "metadata": {},
     "output_type": "execute_result"
    }
   ],
   "source": [
    "# Add the SVM model predictions to the DataFrame\n",
    "second_predictions_df['Predicted'] = pred\n",
    "\n",
    "# Add the actual returns to the DataFrame\n",
    "second_predictions_df[\"Actual Returns\"] = signals_df[\"Actual Returns\"]\n",
    "\n",
    "# Add the strategy returns to the DataFrame\n",
    "second_predictions_df['Strategy Returns'] = second_predictions_df[\"Actual Returns\"] * pred\n",
    "\n",
    "# Review the DataFrame\n",
    "second_predictions_df.tail()"
   ]
  },
  {
   "cell_type": "code",
   "execution_count": 58,
   "id": "0fc0d44e",
   "metadata": {},
   "outputs": [
    {
     "data": {
      "text/plain": [
       "<AxesSubplot:xlabel='Date'>"
      ]
     },
     "execution_count": 58,
     "metadata": {},
     "output_type": "execute_result"
    },
    {
     "data": {
      "image/png": "[encoded data removed]",
      "text/plain": [
       "<Figure size 432x288 with 1 Axes>"
      ]
     },
     "metadata": {
      "needs_background": "light"
     },
     "output_type": "display_data"
    }
   ],
   "source": [
    "# Plot the actual returns versus the strategy returns\n",
    "\n",
    "(1 + second_predictions_df[[\"Actual Returns\", \"Strategy Returns\"]]).cumprod().plot()"
   ]
  },
  {
   "cell_type": "code",
   "execution_count": null,
   "id": "930fa1c3",
   "metadata": {},
   "outputs": [],
   "source": []
  },
  {
   "cell_type": "code",
   "execution_count": null,
   "id": "1a1837c6",
   "metadata": {},
   "outputs": [],
   "source": []
  },
  {
   "cell_type": "code",
   "execution_count": null,
   "id": "807fdeff",
   "metadata": {},
   "outputs": [],
   "source": []
  },
  {
   "cell_type": "code",
   "execution_count": null,
   "id": "f951aef6",
   "metadata": {},
   "outputs": [],
   "source": []
  }
 ],
 "metadata": {
  "kernelspec": {
   "display_name": "Python 3 (ipykernel)",
   "language": "python",
   "name": "python3"
  },
  "language_info": {
   "codemirror_mode": {
    "name": "ipython",
    "version": 3
   },
   "file_extension": ".py",
   "mimetype": "text/x-python",
   "name": "python",
   "nbconvert_exporter": "python",
   "pygments_lexer": "ipython3",
   "version": "3.9.7"
  }
 },
 "nbformat": 4,
 "nbformat_minor": 5
}
